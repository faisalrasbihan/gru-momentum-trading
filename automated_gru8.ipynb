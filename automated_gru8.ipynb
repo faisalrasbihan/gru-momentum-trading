{
  "nbformat": 4,
  "nbformat_minor": 0,
  "metadata": {
    "kernelspec": {
      "display_name": "Python 3",
      "language": "python",
      "name": "python3"
    },
    "language_info": {
      "codemirror_mode": {
        "name": "ipython",
        "version": 3
      },
      "file_extension": ".py",
      "mimetype": "text/x-python",
      "name": "python",
      "nbconvert_exporter": "python",
      "pygments_lexer": "ipython3",
      "version": "3.7.10"
    },
    "colab": {
      "name": "automated-gru8.ipynb",
      "provenance": [],
      "include_colab_link": true
    }
  },
  "cells": [
    {
      "cell_type": "markdown",
      "metadata": {
        "id": "view-in-github",
        "colab_type": "text"
      },
      "source": [
        "<a href=\"https://colab.research.google.com/github/faisalrasbihan/gru-momentum-trading/blob/main/automated_gru8.ipynb\" target=\"_parent\"><img src=\"https://colab.research.google.com/assets/colab-badge.svg\" alt=\"Open In Colab\"/></a>"
      ]
    },
    {
      "cell_type": "markdown",
      "metadata": {
        "id": "EBlEW7fdKUTO"
      },
      "source": [
        "# 0. Preamble"
      ]
    },
    {
      "cell_type": "code",
      "metadata": {
        "scrolled": true,
        "id": "tPACScmFKQrE"
      },
      "source": [
        "import json\n",
        "import requests\n",
        "import pandas as pd\n",
        "import numpy as np\n",
        "from datetime import date, timedelta, datetime\n",
        "import missingno as msno\n",
        "\n",
        "# Machine Learning\n",
        "import tensorflow as tf\n",
        "from tensorflow.keras.layers import Dense, Activation, Dropout, LSTM, Conv1D, GRU\n",
        "from tensorflow.keras.models import Sequential, load_model\n",
        "from tensorflow.keras.callbacks import EarlyStopping, ModelCheckpoint\n",
        "import tensorflow.keras.backend as K\n",
        "\n",
        "# Data Visualizations\n",
        "import matplotlib as mpl\n",
        "import matplotlib.pyplot as plt\n",
        "import matplotlib.ticker as ticker\n",
        "import matplotlib.patches as mpatches\n",
        "import seaborn as sns\n",
        "import plotly.graph_objects as go\n",
        "import plotly.express as px\n",
        "from plotly.subplots import make_subplots\n",
        "\n",
        "# import shap\n",
        "import seaborn as sns\n",
        "sns.set()\n",
        "\n",
        "from io import BytesIO\n",
        "import requests\n",
        "\n",
        "# Import custom utility funciton \n",
        "import _data_processor as dp\n",
        "import _visualize as viz\n",
        "import _predict_model as pm\n",
        "import _trade_simulation as tm"
      ],
      "execution_count": 7,
      "outputs": []
    },
    {
      "cell_type": "markdown",
      "metadata": {
        "id": "DKspVxdAKQrF"
      },
      "source": [
        "# 1. Iterate through symbols list"
      ]
    },
    {
      "cell_type": "code",
      "metadata": {
        "scrolled": true,
        "id": "zdXQqNICKQrG"
      },
      "source": [
        "symbol_region = [('EIDO','US'),('SPY','US'),('IDX30.JK','ID'),('^JKLQ45','ID'),('^JKSE','ID')]\n",
        "latest = pd.DataFrame()\n",
        "\n",
        "for symbol,region in symbol_region:\n",
        "    \n",
        "    # Query yahoo finance with symbol and region specified\n",
        "    querystring = {f\"interval\":\"1d\",\"symbol\":symbol,\"range\":\"5d\",\"region\":region}\n",
        "#     print(querystring)\n",
        "    url = \"https://apidojo-yahoo-finance-v1.p.rapidapi.com/stock/v2/get-chart\"\n",
        "    headers = {\n",
        "        'x-rapidapi-key': \"2ae167d1a9msh2d45d09b2cdd5cap100809jsna472cae90b94\",\n",
        "        'x-rapidapi-host': \"apidojo-yahoo-finance-v1.p.rapidapi.com\"\n",
        "    }\n",
        "    response = requests.request(\"GET\", url, headers=headers, params=querystring)\n",
        "    \n",
        "    # Create temp df from response to store quuery result\n",
        "    result = json.loads(response.text)['chart']['result'][0]\n",
        "    volume = result['indicators']['quote'][0]['volume']\n",
        "    close = result['indicators']['quote'][0]['close']\n",
        "    date = result['timestamp']\n",
        "    data = {\n",
        "        'date': date,\n",
        "        symbol: close,\n",
        "        f\"{symbol}_VOL\": volume,\n",
        "    }\n",
        "    temp = pd.DataFrame.from_dict(data)\n",
        "    temp['date'] = pd.to_datetime(temp['date'],unit='s').dt.date\n",
        "    temp.set_index(['date'], inplace=True)\n",
        "#     print(temp)\n",
        "    \n",
        "    # Join temp df to main df by date, or create df with temp df if empty\n",
        "    if latest.empty:\n",
        "        latest = temp\n",
        "#         print(latest)\n",
        "    else:\n",
        "        latest = latest.merge(temp, how='outer', left_index=True, right_index=True).copy()\n",
        "        \n",
        "latest.rename(columns={\"IDX30.JK\": \"IDX30\", \n",
        "                       \"IDX30.JK_VOL\": \"IDX30_VOL\", \n",
        "                       \"^JKLQ45\": \"LQ45\", \n",
        "                       \"^JKLQ45_VOL\": \"LQ45_VOL\", \n",
        "                       \"^JKSE\": \"IHSG\", \n",
        "                       \"^JKSE_VOL\": \"IHSG_VOL\"},\n",
        "             inplace=True)"
      ],
      "execution_count": 3,
      "outputs": []
    },
    {
      "cell_type": "code",
      "metadata": {
        "scrolled": true,
        "colab": {
          "base_uri": "https://localhost:8080/",
          "height": 248
        },
        "id": "K9cq6w6zKQrH",
        "outputId": "2b5d6c99-bb5d-41b8-89b4-dd92b3f18c58"
      },
      "source": [
        "latest = latest[['EIDO','SPY','IDX30','LQ45','IHSG']]\n",
        "latest['Volume'] = 1.47 * 10**9\n",
        "# latest.to_csv('dataset/gru8_input.csv', mode='a', header=False)\n",
        "latest"
      ],
      "execution_count": 4,
      "outputs": [
        {
          "output_type": "execute_result",
          "data": {
            "text/html": [
              "<div>\n",
              "<style scoped>\n",
              "    .dataframe tbody tr th:only-of-type {\n",
              "        vertical-align: middle;\n",
              "    }\n",
              "\n",
              "    .dataframe tbody tr th {\n",
              "        vertical-align: top;\n",
              "    }\n",
              "\n",
              "    .dataframe thead th {\n",
              "        text-align: right;\n",
              "    }\n",
              "</style>\n",
              "<table border=\"1\" class=\"dataframe\">\n",
              "  <thead>\n",
              "    <tr style=\"text-align: right;\">\n",
              "      <th></th>\n",
              "      <th>EIDO</th>\n",
              "      <th>SPY</th>\n",
              "      <th>IDX30</th>\n",
              "      <th>LQ45</th>\n",
              "      <th>IHSG</th>\n",
              "      <th>Volume</th>\n",
              "    </tr>\n",
              "    <tr>\n",
              "      <th>date</th>\n",
              "      <th></th>\n",
              "      <th></th>\n",
              "      <th></th>\n",
              "      <th></th>\n",
              "      <th></th>\n",
              "      <th></th>\n",
              "    </tr>\n",
              "  </thead>\n",
              "  <tbody>\n",
              "    <tr>\n",
              "      <th>2021-06-08</th>\n",
              "      <td>21.980000</td>\n",
              "      <td>422.279999</td>\n",
              "      <td>NaN</td>\n",
              "      <td>NaN</td>\n",
              "      <td>NaN</td>\n",
              "      <td>1.470000e+09</td>\n",
              "    </tr>\n",
              "    <tr>\n",
              "      <th>2021-06-09</th>\n",
              "      <td>22.160000</td>\n",
              "      <td>421.649994</td>\n",
              "      <td>NaN</td>\n",
              "      <td>898.909973</td>\n",
              "      <td>6047.475098</td>\n",
              "      <td>1.470000e+09</td>\n",
              "    </tr>\n",
              "    <tr>\n",
              "      <th>2021-06-10</th>\n",
              "      <td>22.389999</td>\n",
              "      <td>423.609985</td>\n",
              "      <td>NaN</td>\n",
              "      <td>905.419983</td>\n",
              "      <td>6107.538086</td>\n",
              "      <td>1.470000e+09</td>\n",
              "    </tr>\n",
              "    <tr>\n",
              "      <th>2021-06-11</th>\n",
              "      <td>22.250000</td>\n",
              "      <td>424.309998</td>\n",
              "      <td>NaN</td>\n",
              "      <td>901.640015</td>\n",
              "      <td>6095.497070</td>\n",
              "      <td>1.470000e+09</td>\n",
              "    </tr>\n",
              "    <tr>\n",
              "      <th>2021-06-14</th>\n",
              "      <td>21.950001</td>\n",
              "      <td>425.260010</td>\n",
              "      <td>NaN</td>\n",
              "      <td>895.890015</td>\n",
              "      <td>6080.383789</td>\n",
              "      <td>1.470000e+09</td>\n",
              "    </tr>\n",
              "    <tr>\n",
              "      <th>2021-06-15</th>\n",
              "      <td>NaN</td>\n",
              "      <td>NaN</td>\n",
              "      <td>477.274994</td>\n",
              "      <td>892.921021</td>\n",
              "      <td>6073.669922</td>\n",
              "      <td>1.470000e+09</td>\n",
              "    </tr>\n",
              "  </tbody>\n",
              "</table>\n",
              "</div>"
            ],
            "text/plain": [
              "                 EIDO         SPY  ...         IHSG        Volume\n",
              "date                               ...                           \n",
              "2021-06-08  21.980000  422.279999  ...          NaN  1.470000e+09\n",
              "2021-06-09  22.160000  421.649994  ...  6047.475098  1.470000e+09\n",
              "2021-06-10  22.389999  423.609985  ...  6107.538086  1.470000e+09\n",
              "2021-06-11  22.250000  424.309998  ...  6095.497070  1.470000e+09\n",
              "2021-06-14  21.950001  425.260010  ...  6080.383789  1.470000e+09\n",
              "2021-06-15        NaN         NaN  ...  6073.669922  1.470000e+09\n",
              "\n",
              "[6 rows x 6 columns]"
            ]
          },
          "metadata": {
            "tags": []
          },
          "execution_count": 4
        }
      ]
    },
    {
      "cell_type": "markdown",
      "metadata": {
        "id": "_Y8tU0wWKQrI"
      },
      "source": [
        "# 2. Preprocess data"
      ]
    },
    {
      "cell_type": "code",
      "metadata": {
        "id": "fhgTUSnPKQrI"
      },
      "source": [
        "# Set constants\n",
        "INPUT_VAR = ['momentum','IDX30_IHSG_grad','EIDO_SPY_grad','Volume_grad']\n",
        "TARGET_VAR = 'target'\n",
        "\n",
        "EIDO_SPY_SLOW_MA = 6\n",
        "EIDO_SPY_FAST_MA = 6\n",
        "IDX30_IHSG_SLOW_MA = 7\n",
        "IDX30_IHSG_FAST_MA = 5\n",
        "Volume_SLOW_MA = 10\n",
        "Volume_FAST_MA = 6\n",
        "\n",
        "MA_PERIOD = 5\n",
        "FUTURE_DAYS = 3"
      ],
      "execution_count": 54,
      "outputs": []
    },
    {
      "cell_type": "code",
      "metadata": {
        "colab": {
          "base_uri": "https://localhost:8080/",
          "height": 391
        },
        "id": "GuHUqt70KQrJ",
        "outputId": "ecbfa756-3d77-4151-ffb6-9cc39b35f270"
      },
      "source": [
        "googleSheetId = '13RkfCBGI-5df_dfvre0P-RlvJZc2NUpW5vx0On6bUjY'\n",
        "workSheetName = 'Sheet1'\n",
        "URL = 'https://docs.google.com/spreadsheets/d/{0}/gviz/tq?tqx=out:csv&sheet={1}'.format(\n",
        "    googleSheetId,\n",
        "    workSheetName\n",
        ")\n",
        "df = pd.read_csv(URL, sep=',',parse_dates=['Date'])\n",
        "\n",
        "df"
      ],
      "execution_count": 56,
      "outputs": [
        {
          "output_type": "execute_result",
          "data": {
            "text/html": [
              "<div>\n",
              "<style scoped>\n",
              "    .dataframe tbody tr th:only-of-type {\n",
              "        vertical-align: middle;\n",
              "    }\n",
              "\n",
              "    .dataframe tbody tr th {\n",
              "        vertical-align: top;\n",
              "    }\n",
              "\n",
              "    .dataframe thead th {\n",
              "        text-align: right;\n",
              "    }\n",
              "</style>\n",
              "<table border=\"1\" class=\"dataframe\">\n",
              "  <thead>\n",
              "    <tr style=\"text-align: right;\">\n",
              "      <th></th>\n",
              "      <th>Date</th>\n",
              "      <th>EIDO</th>\n",
              "      <th>SPY</th>\n",
              "      <th>IDX30</th>\n",
              "      <th>LQ45</th>\n",
              "      <th>IHSG</th>\n",
              "      <th>Volume</th>\n",
              "      <th>tot_buy</th>\n",
              "      <th>dom_total</th>\n",
              "      <th>for_flow</th>\n",
              "    </tr>\n",
              "  </thead>\n",
              "  <tbody>\n",
              "    <tr>\n",
              "      <th>0</th>\n",
              "      <td>2012-04-24</td>\n",
              "      <td>30.880000</td>\n",
              "      <td>137.310000</td>\n",
              "      <td>358.940000</td>\n",
              "      <td>709.970000</td>\n",
              "      <td>4170.350000</td>\n",
              "      <td>6.870800e+08</td>\n",
              "      <td>4453953.125</td>\n",
              "      <td>-359126.625</td>\n",
              "      <td>6041530.0</td>\n",
              "    </tr>\n",
              "    <tr>\n",
              "      <th>1</th>\n",
              "      <td>2020-10-22</td>\n",
              "      <td>18.700000</td>\n",
              "      <td>344.610000</td>\n",
              "      <td>428.150000</td>\n",
              "      <td>788.560000</td>\n",
              "      <td>5091.820000</td>\n",
              "      <td>1.780000e+09</td>\n",
              "      <td>9353848.500</td>\n",
              "      <td>-262450.500</td>\n",
              "      <td>11146785.5</td>\n",
              "    </tr>\n",
              "    <tr>\n",
              "      <th>2</th>\n",
              "      <td>2020-10-23</td>\n",
              "      <td>18.900000</td>\n",
              "      <td>345.780000</td>\n",
              "      <td>428.300000</td>\n",
              "      <td>789.820000</td>\n",
              "      <td>5112.190000</td>\n",
              "      <td>1.570000e+09</td>\n",
              "      <td>8353186.000</td>\n",
              "      <td>-45693.000</td>\n",
              "      <td>12570627.5</td>\n",
              "    </tr>\n",
              "    <tr>\n",
              "      <th>3</th>\n",
              "      <td>2020-10-26</td>\n",
              "      <td>18.840000</td>\n",
              "      <td>339.390000</td>\n",
              "      <td>430.880000</td>\n",
              "      <td>794.210000</td>\n",
              "      <td>5144.050000</td>\n",
              "      <td>1.380000e+09</td>\n",
              "      <td>7126885.125</td>\n",
              "      <td>127978.125</td>\n",
              "      <td>10899793.0</td>\n",
              "    </tr>\n",
              "    <tr>\n",
              "      <th>4</th>\n",
              "      <td>2020-10-27</td>\n",
              "      <td>18.790000</td>\n",
              "      <td>338.220000</td>\n",
              "      <td>428.710000</td>\n",
              "      <td>790.500000</td>\n",
              "      <td>5128.230000</td>\n",
              "      <td>1.560000e+09</td>\n",
              "      <td>8549284.000</td>\n",
              "      <td>108244.000</td>\n",
              "      <td>12767308.0</td>\n",
              "    </tr>\n",
              "    <tr>\n",
              "      <th>...</th>\n",
              "      <td>...</td>\n",
              "      <td>...</td>\n",
              "      <td>...</td>\n",
              "      <td>...</td>\n",
              "      <td>...</td>\n",
              "      <td>...</td>\n",
              "      <td>...</td>\n",
              "      <td>...</td>\n",
              "      <td>...</td>\n",
              "      <td>...</td>\n",
              "    </tr>\n",
              "    <tr>\n",
              "      <th>129</th>\n",
              "      <td>2021-04-26</td>\n",
              "      <td>21.629999</td>\n",
              "      <td>417.609985</td>\n",
              "      <td>474.980000</td>\n",
              "      <td>892.180000</td>\n",
              "      <td>5964.820000</td>\n",
              "      <td>1.060000e+09</td>\n",
              "      <td>3524720.500</td>\n",
              "      <td>-226572.750</td>\n",
              "      <td>6203283.5</td>\n",
              "    </tr>\n",
              "    <tr>\n",
              "      <th>130</th>\n",
              "      <td>2021-04-27</td>\n",
              "      <td>21.530001</td>\n",
              "      <td>417.519989</td>\n",
              "      <td>474.410000</td>\n",
              "      <td>891.350000</td>\n",
              "      <td>5959.620000</td>\n",
              "      <td>1.200000e+09</td>\n",
              "      <td>2902870.250</td>\n",
              "      <td>-38980.250</td>\n",
              "      <td>6807731.0</td>\n",
              "    </tr>\n",
              "    <tr>\n",
              "      <th>131</th>\n",
              "      <td>2021-04-28</td>\n",
              "      <td>21.740000</td>\n",
              "      <td>417.399994</td>\n",
              "      <td>474.095001</td>\n",
              "      <td>890.901978</td>\n",
              "      <td>5974.479004</td>\n",
              "      <td>1.090000e+09</td>\n",
              "      <td>9644175.750</td>\n",
              "      <td>-476607.500</td>\n",
              "      <td>13813094.5</td>\n",
              "    </tr>\n",
              "    <tr>\n",
              "      <th>132</th>\n",
              "      <td>2021-04-29</td>\n",
              "      <td>21.870000</td>\n",
              "      <td>420.060000</td>\n",
              "      <td>478.080000</td>\n",
              "      <td>897.810000</td>\n",
              "      <td>6012.960000</td>\n",
              "      <td>1.280000e+09</td>\n",
              "      <td>9782288.500</td>\n",
              "      <td>-20140.000</td>\n",
              "      <td>14869813.0</td>\n",
              "    </tr>\n",
              "    <tr>\n",
              "      <th>133</th>\n",
              "      <td>2021-04-30</td>\n",
              "      <td>21.640000</td>\n",
              "      <td>417.300000</td>\n",
              "      <td>475.490000</td>\n",
              "      <td>893.720000</td>\n",
              "      <td>5995.620000</td>\n",
              "      <td>1.180000e+09</td>\n",
              "      <td>9850308.500</td>\n",
              "      <td>186268.500</td>\n",
              "      <td>13808775.5</td>\n",
              "    </tr>\n",
              "  </tbody>\n",
              "</table>\n",
              "<p>134 rows × 10 columns</p>\n",
              "</div>"
            ],
            "text/plain": [
              "          Date       EIDO         SPY  ...      tot_buy   dom_total    for_flow\n",
              "0   2012-04-24  30.880000  137.310000  ...  4453953.125 -359126.625   6041530.0\n",
              "1   2020-10-22  18.700000  344.610000  ...  9353848.500 -262450.500  11146785.5\n",
              "2   2020-10-23  18.900000  345.780000  ...  8353186.000  -45693.000  12570627.5\n",
              "3   2020-10-26  18.840000  339.390000  ...  7126885.125  127978.125  10899793.0\n",
              "4   2020-10-27  18.790000  338.220000  ...  8549284.000  108244.000  12767308.0\n",
              "..         ...        ...         ...  ...          ...         ...         ...\n",
              "129 2021-04-26  21.629999  417.609985  ...  3524720.500 -226572.750   6203283.5\n",
              "130 2021-04-27  21.530001  417.519989  ...  2902870.250  -38980.250   6807731.0\n",
              "131 2021-04-28  21.740000  417.399994  ...  9644175.750 -476607.500  13813094.5\n",
              "132 2021-04-29  21.870000  420.060000  ...  9782288.500  -20140.000  14869813.0\n",
              "133 2021-04-30  21.640000  417.300000  ...  9850308.500  186268.500  13808775.5\n",
              "\n",
              "[134 rows x 10 columns]"
            ]
          },
          "metadata": {
            "tags": []
          },
          "execution_count": 56
        }
      ]
    },
    {
      "cell_type": "code",
      "metadata": {
        "id": "T_X_VpGdKQrJ"
      },
      "source": [
        "def hampel(vals_orig, k=7, t0=3):\n",
        "    #Make copy so original not edited\n",
        "    vals = vals_orig.copy()\n",
        "    \n",
        "    #Hampel Filter\n",
        "    L = 1.4826\n",
        "    rolling_median = vals.rolling(window=k, center=True).median()\n",
        "    MAD = lambda x: np.median(np.abs(x - np.median(x)))\n",
        "    rolling_MAD = vals.rolling(window=k, center=True).apply(MAD)\n",
        "    threshold = t0 * L * rolling_MAD\n",
        "    difference = np.abs(vals - rolling_median)\n",
        "    \n",
        "    outlier_idx = difference > threshold\n",
        "    vals[outlier_idx] = rolling_median[outlier_idx] \n",
        "    return outlier_idx, vals"
      ],
      "execution_count": 58,
      "outputs": []
    },
    {
      "cell_type": "code",
      "metadata": {
        "id": "4fwCAfKoKQrJ"
      },
      "source": [
        "outlier_idx, dom_filtered = hampel(df.dom_total,k=20,t0=9)\n",
        "dom_outlier = df.dom_total.copy()\n",
        "dom_outlier[~outlier_idx] = np.nan\n",
        "\n",
        "df['dom_filtered'] = dom_filtered\n",
        "\n",
        "outlier_idx, for_filtered = hampel(df.for_flow,k=20,t0=9)\n",
        "for_outlier = df.for_flow.copy()\n",
        "for_outlier[~outlier_idx] = np.nan\n",
        "\n",
        "df['for_flow_filtered'] = for_filtered\n",
        "\n",
        "outlier_idx, total_buy_filtered = hampel(df.tot_buy,k=20,t0=9)\n",
        "tot_outlier = df.tot_buy.copy()\n",
        "tot_outlier[~outlier_idx] = np.nan\n",
        "df['total_buy_filtered'] = total_buy_filtered"
      ],
      "execution_count": 59,
      "outputs": []
    },
    {
      "cell_type": "code",
      "metadata": {
        "colab": {
          "base_uri": "https://localhost:8080/",
          "height": 361
        },
        "id": "fMLgtLaiKQrK",
        "outputId": "a317d450-9611-446b-c228-628e215b4a60"
      },
      "source": [
        "df = df.resample('D').mean()\n",
        "df['LQ45'] = df['LQ45'].ffill()\n",
        "df['Volume'] = df['Volume'].ffill()\n",
        "df['IDX30'] = df['IDX30'].ffill()\n",
        "df['IHSG'] = df['IHSG'].ffill()\n",
        "df['EIDO'] = df['EIDO'].ffill()\n",
        "df['SPY'] = df['SPY'].ffill()\n",
        "df['dom_filtered'] = df['dom_filtered'].ffill()\n",
        "df['for_flow_filtered'] = df['for_flow_filtered'].ffill()\n",
        "df['total_buy_filtered'] = df['total_buy_filtered'].ffill()\n",
        "\n",
        "# Remove saturday and sunday data\n",
        "df['day_of_week'] = df.index.dayofweek + 1\n",
        "df = df[df['day_of_week'] < 6].copy()\n",
        "df.drop(columns=['day_of_week'],inplace=True)\n",
        "\n",
        "df['target'] = df['LQ45'].pct_change(periods=FUTURE_DAYS).shift(-(FUTURE_DAYS-1)) * 100\n",
        "\n",
        "# Add linear series\n",
        "df['linear_series'] = (df.reset_index().index + 1000) / 1000\n",
        "\n",
        "# Calculate momentum\n",
        "df['momentum'] = dp.momentum_transformation(df, 'LQ45', ma_span=4, normalized=False)\n",
        "\n",
        "# Calculate foreign flow, dom_val, total_buy\n",
        "df['dom_filtered'] = df['dom_filtered'] / (10**6)\n",
        "df['for_flow_filtered'] = df['for_flow_filtered'] / (10**6)\n",
        "df['total_buy_filtered'] = df['total_buy_filtered']/(10**6)\n",
        "\n",
        "df['dom_val_ma'] = df['dom_filtered'].rolling(7).mean()\n",
        "df['for_flow_ma'] = df['for_flow_filtered'].rolling(7).mean()\n",
        "df['dom_val_grad'] = df['dom_filtered'].rolling(3).mean() - df['dom_filtered'].rolling(11).mean().shift(3)\n",
        "df['for_flow_grad'] = df['for_flow_filtered'].rolling(3).mean() - df['for_flow_filtered'].rolling(11).mean().shift(3)\n",
        "df['total_val_grad'] = df['total_buy_filtered'].rolling(3).mean() - df['total_buy_filtered'].rolling(11).mean().shift(3)\n",
        "\n",
        "# Rescale volume\n",
        "df['Volume'] = df['Volume']/1000000000\n",
        "df.loc[df.Volume > 13, 'Volume'] = np.nan\n",
        "\n",
        "# Calculate gradient\n",
        "df['EIDO'] = 100*df['EIDO']/df['EIDO'][0]\n",
        "df['SPY'] = 100*df['SPY']/df['SPY'][0]\n",
        "df['IDX30'] = 100*df['IDX30']/df['IDX30'][0]\n",
        "df['IHSG'] = 100*df['IHSG']/df['IHSG'][0]\n",
        "\n",
        "# Remove oldest data\n",
        "df = df[1:].copy()\n",
        "\n",
        "df['EIDO_SPY_diff'] = df['EIDO'] - df['SPY']\n",
        "df['EIDO_SPY_grad'] = df['EIDO_SPY_diff'].rolling(EIDO_SPY_FAST_MA).mean() - df['EIDO_SPY_diff'].rolling(EIDO_SPY_SLOW_MA).mean().shift(EIDO_SPY_FAST_MA)\n",
        "df['IDX30_IHSG_diff'] = df['IDX30'] - df['IHSG']\n",
        "df['IDX30_IHSG_grad'] = df['IDX30_IHSG_diff'].rolling(IDX30_IHSG_FAST_MA).mean() - df['IDX30_IHSG_diff'].rolling(IDX30_IHSG_SLOW_MA).mean().shift(IDX30_IHSG_FAST_MA)\n",
        "df['Volume_ma'] = df['Volume'].rolling(14).mean()\n",
        "df['Volume_grad'] = df['Volume'].rolling(Volume_FAST_MA).mean() - df['Volume'].rolling(Volume_SLOW_MA).mean().shift(Volume_FAST_MA)"
      ],
      "execution_count": 60,
      "outputs": [
        {
          "output_type": "error",
          "ename": "TypeError",
          "evalue": "ignored",
          "traceback": [
            "\u001b[0;31m---------------------------------------------------------------------------\u001b[0m",
            "\u001b[0;31mTypeError\u001b[0m                                 Traceback (most recent call last)",
            "\u001b[0;32m<ipython-input-60-f3f1fc4d4e0f>\u001b[0m in \u001b[0;36m<module>\u001b[0;34m()\u001b[0m\n\u001b[0;32m----> 1\u001b[0;31m \u001b[0mdf\u001b[0m \u001b[0;34m=\u001b[0m \u001b[0mdf\u001b[0m\u001b[0;34m.\u001b[0m\u001b[0mresample\u001b[0m\u001b[0;34m(\u001b[0m\u001b[0;34m'D'\u001b[0m\u001b[0;34m)\u001b[0m\u001b[0;34m.\u001b[0m\u001b[0mmean\u001b[0m\u001b[0;34m(\u001b[0m\u001b[0;34m)\u001b[0m\u001b[0;34m\u001b[0m\u001b[0;34m\u001b[0m\u001b[0m\n\u001b[0m\u001b[1;32m      2\u001b[0m \u001b[0mdf\u001b[0m\u001b[0;34m[\u001b[0m\u001b[0;34m'LQ45'\u001b[0m\u001b[0;34m]\u001b[0m \u001b[0;34m=\u001b[0m \u001b[0mdf\u001b[0m\u001b[0;34m[\u001b[0m\u001b[0;34m'LQ45'\u001b[0m\u001b[0;34m]\u001b[0m\u001b[0;34m.\u001b[0m\u001b[0mffill\u001b[0m\u001b[0;34m(\u001b[0m\u001b[0;34m)\u001b[0m\u001b[0;34m\u001b[0m\u001b[0;34m\u001b[0m\u001b[0m\n\u001b[1;32m      3\u001b[0m \u001b[0mdf\u001b[0m\u001b[0;34m[\u001b[0m\u001b[0;34m'Volume'\u001b[0m\u001b[0;34m]\u001b[0m \u001b[0;34m=\u001b[0m \u001b[0mdf\u001b[0m\u001b[0;34m[\u001b[0m\u001b[0;34m'Volume'\u001b[0m\u001b[0;34m]\u001b[0m\u001b[0;34m.\u001b[0m\u001b[0mffill\u001b[0m\u001b[0;34m(\u001b[0m\u001b[0;34m)\u001b[0m\u001b[0;34m\u001b[0m\u001b[0;34m\u001b[0m\u001b[0m\n\u001b[1;32m      4\u001b[0m \u001b[0mdf\u001b[0m\u001b[0;34m[\u001b[0m\u001b[0;34m'IDX30'\u001b[0m\u001b[0;34m]\u001b[0m \u001b[0;34m=\u001b[0m \u001b[0mdf\u001b[0m\u001b[0;34m[\u001b[0m\u001b[0;34m'IDX30'\u001b[0m\u001b[0;34m]\u001b[0m\u001b[0;34m.\u001b[0m\u001b[0mffill\u001b[0m\u001b[0;34m(\u001b[0m\u001b[0;34m)\u001b[0m\u001b[0;34m\u001b[0m\u001b[0;34m\u001b[0m\u001b[0m\n\u001b[1;32m      5\u001b[0m \u001b[0mdf\u001b[0m\u001b[0;34m[\u001b[0m\u001b[0;34m'IHSG'\u001b[0m\u001b[0;34m]\u001b[0m \u001b[0;34m=\u001b[0m \u001b[0mdf\u001b[0m\u001b[0;34m[\u001b[0m\u001b[0;34m'IHSG'\u001b[0m\u001b[0;34m]\u001b[0m\u001b[0;34m.\u001b[0m\u001b[0mffill\u001b[0m\u001b[0;34m(\u001b[0m\u001b[0;34m)\u001b[0m\u001b[0;34m\u001b[0m\u001b[0;34m\u001b[0m\u001b[0m\n",
            "\u001b[0;32m/usr/local/lib/python3.7/dist-packages/pandas/core/generic.py\u001b[0m in \u001b[0;36mresample\u001b[0;34m(self, rule, axis, closed, label, convention, kind, loffset, base, on, level, origin, offset)\u001b[0m\n\u001b[1;32m   8094\u001b[0m             \u001b[0mlevel\u001b[0m\u001b[0;34m=\u001b[0m\u001b[0mlevel\u001b[0m\u001b[0;34m,\u001b[0m\u001b[0;34m\u001b[0m\u001b[0;34m\u001b[0m\u001b[0m\n\u001b[1;32m   8095\u001b[0m             \u001b[0morigin\u001b[0m\u001b[0;34m=\u001b[0m\u001b[0morigin\u001b[0m\u001b[0;34m,\u001b[0m\u001b[0;34m\u001b[0m\u001b[0;34m\u001b[0m\u001b[0m\n\u001b[0;32m-> 8096\u001b[0;31m             \u001b[0moffset\u001b[0m\u001b[0;34m=\u001b[0m\u001b[0moffset\u001b[0m\u001b[0;34m,\u001b[0m\u001b[0;34m\u001b[0m\u001b[0;34m\u001b[0m\u001b[0m\n\u001b[0m\u001b[1;32m   8097\u001b[0m         )\n\u001b[1;32m   8098\u001b[0m \u001b[0;34m\u001b[0m\u001b[0m\n",
            "\u001b[0;32m/usr/local/lib/python3.7/dist-packages/pandas/core/resample.py\u001b[0m in \u001b[0;36mget_resampler\u001b[0;34m(obj, kind, **kwds)\u001b[0m\n\u001b[1;32m   1268\u001b[0m     \"\"\"\n\u001b[1;32m   1269\u001b[0m     \u001b[0mtg\u001b[0m \u001b[0;34m=\u001b[0m \u001b[0mTimeGrouper\u001b[0m\u001b[0;34m(\u001b[0m\u001b[0;34m**\u001b[0m\u001b[0mkwds\u001b[0m\u001b[0;34m)\u001b[0m\u001b[0;34m\u001b[0m\u001b[0;34m\u001b[0m\u001b[0m\n\u001b[0;32m-> 1270\u001b[0;31m     \u001b[0;32mreturn\u001b[0m \u001b[0mtg\u001b[0m\u001b[0;34m.\u001b[0m\u001b[0m_get_resampler\u001b[0m\u001b[0;34m(\u001b[0m\u001b[0mobj\u001b[0m\u001b[0;34m,\u001b[0m \u001b[0mkind\u001b[0m\u001b[0;34m=\u001b[0m\u001b[0mkind\u001b[0m\u001b[0;34m)\u001b[0m\u001b[0;34m\u001b[0m\u001b[0;34m\u001b[0m\u001b[0m\n\u001b[0m\u001b[1;32m   1271\u001b[0m \u001b[0;34m\u001b[0m\u001b[0m\n\u001b[1;32m   1272\u001b[0m \u001b[0;34m\u001b[0m\u001b[0m\n",
            "\u001b[0;32m/usr/local/lib/python3.7/dist-packages/pandas/core/resample.py\u001b[0m in \u001b[0;36m_get_resampler\u001b[0;34m(self, obj, kind)\u001b[0m\n\u001b[1;32m   1434\u001b[0m \u001b[0;34m\u001b[0m\u001b[0m\n\u001b[1;32m   1435\u001b[0m         raise TypeError(\n\u001b[0;32m-> 1436\u001b[0;31m             \u001b[0;34m\"Only valid with DatetimeIndex, \"\u001b[0m\u001b[0;34m\u001b[0m\u001b[0;34m\u001b[0m\u001b[0m\n\u001b[0m\u001b[1;32m   1437\u001b[0m             \u001b[0;34m\"TimedeltaIndex or PeriodIndex, \"\u001b[0m\u001b[0;34m\u001b[0m\u001b[0;34m\u001b[0m\u001b[0m\n\u001b[1;32m   1438\u001b[0m             \u001b[0;34mf\"but got an instance of '{type(ax).__name__}'\"\u001b[0m\u001b[0;34m\u001b[0m\u001b[0;34m\u001b[0m\u001b[0m\n",
            "\u001b[0;31mTypeError\u001b[0m: Only valid with DatetimeIndex, TimedeltaIndex or PeriodIndex, but got an instance of 'RangeIndex'"
          ]
        }
      ]
    },
    {
      "cell_type": "code",
      "metadata": {
        "scrolled": false,
        "id": "1RCoJ-DqKQrL"
      },
      "source": [
        "# Sanity Check\n",
        "df = df[df.index > '2020-11-09']\n",
        "# df_sv = df[INPUT_VAR + ['dom_val_ma','for_flow_ma','total_val_grad'] + [TARGET_VAR]].copy()\n",
        "df[INPUT_VAR + ['dom_val_ma','for_flow_ma','total_val_grad'] + [TARGET_VAR]]"
      ],
      "execution_count": null,
      "outputs": []
    },
    {
      "cell_type": "markdown",
      "metadata": {
        "id": "BniaAcflLGib"
      },
      "source": [
        "# 3. Run model seitan"
      ]
    },
    {
      "cell_type": "code",
      "metadata": {
        "id": "KSMoLckZTERD"
      },
      "source": [
        ""
      ],
      "execution_count": 60,
      "outputs": []
    },
    {
      "cell_type": "markdown",
      "metadata": {
        "id": "XgXBfixfKQrL"
      },
      "source": [
        "# Run Model `high_acc`"
      ]
    },
    {
      "cell_type": "code",
      "metadata": {
        "colab": {
          "base_uri": "https://localhost:8080/",
          "height": 361
        },
        "id": "HjZWvO7NKQrM",
        "outputId": "b3a9575a-f6a7-4c89-a413-6dffbb97c29d"
      },
      "source": [
        "gru8_high_acc_1 = tf.keras.models.load_model('gru8_high_acc_1_64.hdf5', compile=False )\n",
        "gru8_high_acc_2 = tf.keras.models.load_model('gru8_high_acc_2_65.hdf5', compile=False )\n",
        "gru8_high_acc_3 = tf.keras.models.load_model('gru8_high_acc_4_64.hdf5', compile=False )\n",
        "gru8_high_acc_4 = tf.keras.models.load_model('gru8_high_acc_5_65.hdf5', compile=False )\n",
        "gru8_high_acc_6 = tf.keras.models.load_model('gru8_high_acc_6_66.hdf5', compile=False )\n",
        "gru9_high_acc_ffill_1 = tf.keras.models.load_model('gru9_high_acc_ffill_1.hdf5', compile=False )\n",
        "gru9_high_acc_ffill_2 = tf.keras.models.load_model('gru9_high_acc_ffill_2.hdf5', compile=False )\n",
        "gru9_high_acc_ffill_3 = tf.keras.models.load_model('gru9_high_acc_ffill_3.hdf5', compile=False )\n",
        "\n",
        "input_timesteps = 20\n",
        "output_timesteps = 1\n",
        "day_count = 10"
      ],
      "execution_count": 61,
      "outputs": [
        {
          "output_type": "error",
          "ename": "OSError",
          "evalue": "ignored",
          "traceback": [
            "\u001b[0;31m---------------------------------------------------------------------------\u001b[0m",
            "\u001b[0;31mOSError\u001b[0m                                   Traceback (most recent call last)",
            "\u001b[0;32m<ipython-input-61-a02b8161a73f>\u001b[0m in \u001b[0;36m<module>\u001b[0;34m()\u001b[0m\n\u001b[0;32m----> 1\u001b[0;31m \u001b[0mgru8_high_acc_1\u001b[0m \u001b[0;34m=\u001b[0m \u001b[0mtf\u001b[0m\u001b[0;34m.\u001b[0m\u001b[0mkeras\u001b[0m\u001b[0;34m.\u001b[0m\u001b[0mmodels\u001b[0m\u001b[0;34m.\u001b[0m\u001b[0mload_model\u001b[0m\u001b[0;34m(\u001b[0m\u001b[0;34m'gru8_high_acc_1_64.hdf5'\u001b[0m\u001b[0;34m,\u001b[0m \u001b[0mcompile\u001b[0m\u001b[0;34m=\u001b[0m\u001b[0;32mFalse\u001b[0m \u001b[0;34m)\u001b[0m\u001b[0;34m\u001b[0m\u001b[0;34m\u001b[0m\u001b[0m\n\u001b[0m\u001b[1;32m      2\u001b[0m \u001b[0mgru8_high_acc_2\u001b[0m \u001b[0;34m=\u001b[0m \u001b[0mtf\u001b[0m\u001b[0;34m.\u001b[0m\u001b[0mkeras\u001b[0m\u001b[0;34m.\u001b[0m\u001b[0mmodels\u001b[0m\u001b[0;34m.\u001b[0m\u001b[0mload_model\u001b[0m\u001b[0;34m(\u001b[0m\u001b[0;34m'gru8_high_acc_2_65.hdf5'\u001b[0m\u001b[0;34m,\u001b[0m \u001b[0mcompile\u001b[0m\u001b[0;34m=\u001b[0m\u001b[0;32mFalse\u001b[0m \u001b[0;34m)\u001b[0m\u001b[0;34m\u001b[0m\u001b[0;34m\u001b[0m\u001b[0m\n\u001b[1;32m      3\u001b[0m \u001b[0mgru8_high_acc_3\u001b[0m \u001b[0;34m=\u001b[0m \u001b[0mtf\u001b[0m\u001b[0;34m.\u001b[0m\u001b[0mkeras\u001b[0m\u001b[0;34m.\u001b[0m\u001b[0mmodels\u001b[0m\u001b[0;34m.\u001b[0m\u001b[0mload_model\u001b[0m\u001b[0;34m(\u001b[0m\u001b[0;34m'gru8_high_acc_4_64.hdf5'\u001b[0m\u001b[0;34m,\u001b[0m \u001b[0mcompile\u001b[0m\u001b[0;34m=\u001b[0m\u001b[0;32mFalse\u001b[0m \u001b[0;34m)\u001b[0m\u001b[0;34m\u001b[0m\u001b[0;34m\u001b[0m\u001b[0m\n\u001b[1;32m      4\u001b[0m \u001b[0mgru8_high_acc_4\u001b[0m \u001b[0;34m=\u001b[0m \u001b[0mtf\u001b[0m\u001b[0;34m.\u001b[0m\u001b[0mkeras\u001b[0m\u001b[0;34m.\u001b[0m\u001b[0mmodels\u001b[0m\u001b[0;34m.\u001b[0m\u001b[0mload_model\u001b[0m\u001b[0;34m(\u001b[0m\u001b[0;34m'gru8_high_acc_5_65.hdf5'\u001b[0m\u001b[0;34m,\u001b[0m \u001b[0mcompile\u001b[0m\u001b[0;34m=\u001b[0m\u001b[0;32mFalse\u001b[0m \u001b[0;34m)\u001b[0m\u001b[0;34m\u001b[0m\u001b[0;34m\u001b[0m\u001b[0m\n\u001b[1;32m      5\u001b[0m \u001b[0mgru8_high_acc_6\u001b[0m \u001b[0;34m=\u001b[0m \u001b[0mtf\u001b[0m\u001b[0;34m.\u001b[0m\u001b[0mkeras\u001b[0m\u001b[0;34m.\u001b[0m\u001b[0mmodels\u001b[0m\u001b[0;34m.\u001b[0m\u001b[0mload_model\u001b[0m\u001b[0;34m(\u001b[0m\u001b[0;34m'gru8_high_acc_6_66.hdf5'\u001b[0m\u001b[0;34m,\u001b[0m \u001b[0mcompile\u001b[0m\u001b[0;34m=\u001b[0m\u001b[0;32mFalse\u001b[0m \u001b[0;34m)\u001b[0m\u001b[0;34m\u001b[0m\u001b[0;34m\u001b[0m\u001b[0m\n",
            "\u001b[0;32m/usr/local/lib/python3.7/dist-packages/tensorflow/python/keras/saving/save.py\u001b[0m in \u001b[0;36mload_model\u001b[0;34m(filepath, custom_objects, compile, options)\u001b[0m\n\u001b[1;32m    204\u001b[0m         \u001b[0mfilepath\u001b[0m \u001b[0;34m=\u001b[0m \u001b[0mpath_to_string\u001b[0m\u001b[0;34m(\u001b[0m\u001b[0mfilepath\u001b[0m\u001b[0;34m)\u001b[0m\u001b[0;34m\u001b[0m\u001b[0;34m\u001b[0m\u001b[0m\n\u001b[1;32m    205\u001b[0m         \u001b[0;32mif\u001b[0m \u001b[0misinstance\u001b[0m\u001b[0;34m(\u001b[0m\u001b[0mfilepath\u001b[0m\u001b[0;34m,\u001b[0m \u001b[0mstr\u001b[0m\u001b[0;34m)\u001b[0m\u001b[0;34m:\u001b[0m\u001b[0;34m\u001b[0m\u001b[0;34m\u001b[0m\u001b[0m\n\u001b[0;32m--> 206\u001b[0;31m           \u001b[0;32mreturn\u001b[0m \u001b[0msaved_model_load\u001b[0m\u001b[0;34m.\u001b[0m\u001b[0mload\u001b[0m\u001b[0;34m(\u001b[0m\u001b[0mfilepath\u001b[0m\u001b[0;34m,\u001b[0m \u001b[0mcompile\u001b[0m\u001b[0;34m,\u001b[0m \u001b[0moptions\u001b[0m\u001b[0;34m)\u001b[0m\u001b[0;34m\u001b[0m\u001b[0;34m\u001b[0m\u001b[0m\n\u001b[0m\u001b[1;32m    207\u001b[0m \u001b[0;34m\u001b[0m\u001b[0m\n\u001b[1;32m    208\u001b[0m   raise IOError(\n",
            "\u001b[0;32m/usr/local/lib/python3.7/dist-packages/tensorflow/python/keras/saving/saved_model/load.py\u001b[0m in \u001b[0;36mload\u001b[0;34m(path, compile, options)\u001b[0m\n\u001b[1;32m    119\u001b[0m   \u001b[0;31m# Look for metadata file or parse the SavedModel\u001b[0m\u001b[0;34m\u001b[0m\u001b[0;34m\u001b[0m\u001b[0;34m\u001b[0m\u001b[0m\n\u001b[1;32m    120\u001b[0m   \u001b[0mmetadata\u001b[0m \u001b[0;34m=\u001b[0m \u001b[0msaved_metadata_pb2\u001b[0m\u001b[0;34m.\u001b[0m\u001b[0mSavedMetadata\u001b[0m\u001b[0;34m(\u001b[0m\u001b[0;34m)\u001b[0m\u001b[0;34m\u001b[0m\u001b[0;34m\u001b[0m\u001b[0m\n\u001b[0;32m--> 121\u001b[0;31m   \u001b[0mmeta_graph_def\u001b[0m \u001b[0;34m=\u001b[0m \u001b[0mloader_impl\u001b[0m\u001b[0;34m.\u001b[0m\u001b[0mparse_saved_model\u001b[0m\u001b[0;34m(\u001b[0m\u001b[0mpath\u001b[0m\u001b[0;34m)\u001b[0m\u001b[0;34m.\u001b[0m\u001b[0mmeta_graphs\u001b[0m\u001b[0;34m[\u001b[0m\u001b[0;36m0\u001b[0m\u001b[0;34m]\u001b[0m\u001b[0;34m\u001b[0m\u001b[0;34m\u001b[0m\u001b[0m\n\u001b[0m\u001b[1;32m    122\u001b[0m   \u001b[0mobject_graph_def\u001b[0m \u001b[0;34m=\u001b[0m \u001b[0mmeta_graph_def\u001b[0m\u001b[0;34m.\u001b[0m\u001b[0mobject_graph_def\u001b[0m\u001b[0;34m\u001b[0m\u001b[0;34m\u001b[0m\u001b[0m\n\u001b[1;32m    123\u001b[0m   \u001b[0mpath_to_metadata_pb\u001b[0m \u001b[0;34m=\u001b[0m \u001b[0mos\u001b[0m\u001b[0;34m.\u001b[0m\u001b[0mpath\u001b[0m\u001b[0;34m.\u001b[0m\u001b[0mjoin\u001b[0m\u001b[0;34m(\u001b[0m\u001b[0mpath\u001b[0m\u001b[0;34m,\u001b[0m \u001b[0mconstants\u001b[0m\u001b[0;34m.\u001b[0m\u001b[0mSAVED_METADATA_PATH\u001b[0m\u001b[0;34m)\u001b[0m\u001b[0;34m\u001b[0m\u001b[0;34m\u001b[0m\u001b[0m\n",
            "\u001b[0;32m/usr/local/lib/python3.7/dist-packages/tensorflow/python/saved_model/loader_impl.py\u001b[0m in \u001b[0;36mparse_saved_model\u001b[0;34m(export_dir)\u001b[0m\n\u001b[1;32m    114\u001b[0m         \u001b[0;34m\"SavedModel file does not exist at: %s%s{%s|%s}\"\u001b[0m \u001b[0;34m%\u001b[0m\u001b[0;34m\u001b[0m\u001b[0;34m\u001b[0m\u001b[0m\n\u001b[1;32m    115\u001b[0m         (export_dir, os.path.sep, constants.SAVED_MODEL_FILENAME_PBTXT,\n\u001b[0;32m--> 116\u001b[0;31m          constants.SAVED_MODEL_FILENAME_PB))\n\u001b[0m\u001b[1;32m    117\u001b[0m \u001b[0;34m\u001b[0m\u001b[0m\n\u001b[1;32m    118\u001b[0m \u001b[0;34m\u001b[0m\u001b[0m\n",
            "\u001b[0;31mOSError\u001b[0m: SavedModel file does not exist at: gru8_high_acc_1_64.hdf5/{saved_model.pbtxt|saved_model.pb}"
          ]
        }
      ]
    },
    {
      "cell_type": "code",
      "metadata": {
        "id": "dw26MfB9KQrM"
      },
      "source": [
        "MEAN = 0.06968521192214656\n",
        "STD = 2.3073312870270306\n",
        "def target_inverse_transform(x, mean=MEAN, std=STD):\n",
        "    return (x*STD) + MEAN"
      ],
      "execution_count": 62,
      "outputs": []
    },
    {
      "cell_type": "code",
      "metadata": {
        "id": "AeqBXtBDKQrM"
      },
      "source": [
        "def generate_prediction(m, X, y, dates):\n",
        "    pred = m.predict(X)[:,0]\n",
        "    true = y[:,0]\n",
        "    \n",
        "    # Determine true and pred\n",
        "    s = pd.DataFrame()\n",
        "    s['true_bin'] = np.where(true < 0, -1, 1)\n",
        "    s['pred_bin'] = np.where(pred < 0, -1, 1)\n",
        "    s['true']  = true\n",
        "    s['pred'] = pred\n",
        "    \n",
        "    # Calculate error\n",
        "    s['mse'] = np.abs(s['true'] - s['pred']).rolling(7).sum()\n",
        "    s['squared_hinge'] = 1 - s['true'] * s['pred']\n",
        "    s.loc[s['squared_hinge'] < 0,'squared_hinge'] = 0\n",
        "    s['squared_hinge'] = s['squared_hinge']**2\n",
        "    s['rolling_error'] = s['squared_hinge'].rolling(7).mean()\n",
        "    \n",
        "    # Add Date\n",
        "    s['date'] = dates\n",
        "    s['date_str'] = s['date'].dt.strftime('%Y-%m-%d')\n",
        "    s['date_to_val'] = s['date'].map(pd.Series(data=np.arange(len(s)), \n",
        "                                                                     index=s['date'].values).to_dict())\n",
        "#     s['true_in_pct'] = target_inverse_transform(s['true'])\n",
        "#     s['pred_in_pct'] = target_inverse_transform(s['pred'])\n",
        "#     s['correct_sign'] = np.sign(target_inverse_transform(s['pred']) * target_inverse_transform(s['true']))\n",
        "#     s['correct_sign'] = np.where(s['correct_sign'] < 1, 0, 1)\n",
        "#     s['rolling_acc'] = s['correct_sign'].rolling(20).sum()\n",
        "    \n",
        "    return pred,true,s\n"
      ],
      "execution_count": 63,
      "outputs": []
    },
    {
      "cell_type": "code",
      "metadata": {
        "id": "PMC7w34jKQrN"
      },
      "source": [
        "def determine_buy_sell_acc(s, buy_thresh, sell_thresh):\n",
        "    s['pred_position'] = np.where(s.pred < sell_thresh, 'SELL', np.where(s.pred > buy_thresh, 'BUY', 'HOLD'))\n",
        "    s['actual_position'] = np.where(s.true < sell_thresh, 'SELL', np.where(s.true > buy_thresh, 'BUY', 'HOLD'))\n",
        "    s['correct_position'] = (s['pred_position'] == s['actual_position']).astype(int)\n",
        "    s['position_acc'] = s['correct_position'].rolling(20).sum() / 20\n",
        "    return s"
      ],
      "execution_count": 64,
      "outputs": []
    },
    {
      "cell_type": "code",
      "metadata": {
        "id": "jdl5JgkXKQrN"
      },
      "source": [
        "def calc_rolling_acc(s):\n",
        "    s['true_in_pct'] = target_inverse_transform(s['true'])\n",
        "    s['pred_in_pct'] = target_inverse_transform(s['avg_pred'])\n",
        "    s['correct_sign'] = np.sign(target_inverse_transform(s['avg_pred']) * target_inverse_transform(s['true']))\n",
        "    s['correct_sign'] = np.where(s['correct_sign'] < 1, 0, 1)\n",
        "    s['correct_count'] = s['correct_sign'].rolling(20).sum()\n",
        "    s['rolling_acc'] = s['correct_count'] / 20\n",
        "    return s"
      ],
      "execution_count": 65,
      "outputs": []
    },
    {
      "cell_type": "code",
      "metadata": {
        "id": "QZSNtZGrKQrN"
      },
      "source": [
        "def plot_returns(df, closing_price_name='Close', value_range=6, title='Simulated Returns'):\n",
        "    fig, ax = plt.subplots(4, 1, sharex=True, figsize=[16, 12])\n",
        "    fig.suptitle(title, fontsize=20)\n",
        "\n",
        "    # Add patch as legend\n",
        "    red_patch = mpl.patches.Patch(color='#bb3f3f', label='Sell')\n",
        "    green_patch = mpl.patches.Patch(color='#008000', label='Buy')\n",
        "    \n",
        "    # Closing price chart\n",
        "    close = 100*df[closing_price_name]/df[closing_price_name][0]\n",
        "    sns.lineplot(data=close, ax=ax[0])\n",
        "    ax[0].set_ylabel(closing_price_name)\n",
        "    buys = df.loc[df.position == 'Buy'] # mark buy transactions\n",
        "    sells = df.loc[df.position == 'Sell'] # mark sell transactions\n",
        "    \n",
        "    # Add dashed line on last closing price\n",
        "    last_closing_price = close[-1]\n",
        "    ax[0].axhline(last_closing_price, ls='--',linewidth=1, color='m')\n",
        "    ax[0].plot(buys.index, close.loc[buys.index], '^', markersize=8, color='g', label='buy')\n",
        "    ax[0].plot(sells.index, close.loc[sells.index], 'v', markersize=8, color='r', label='sell')\n",
        "    ax[0].annotate((last_closing_price).round(2),xy=(1,last_closing_price),xycoords=('axes fraction','data'),ha='left',va='center',color='black')\n",
        "    ax[0].grid(True)\n",
        "    ax[0].legend(handles=[red_patch, green_patch])\n",
        "\n",
        "    # Price change chart\n",
        "    value_cols = df.columns[:value_range]\n",
        "    melted_df = df[value_cols].reset_index()\n",
        "    melted_df = pd.melt(melted_df, id_vars=['date'], value_vars=value_cols)\n",
        "    ax2 = ax[1].twinx().grid(False)\n",
        "    sns.lineplot(data=melted_df, x='date', y='value', ax=ax[1])\n",
        "    sns.lineplot(data=df, x='date', y='target', color='orange', ax=ax2)\n",
        "    b_patch = mpl.patches.Patch(color='b', label='prediction')\n",
        "    o_patch = mpl.patches.Patch(color='orange', label='target')\n",
        "    ax[1].set_ylabel('prediction'.format(3))\n",
        "    ax[1].grid(True)\n",
        "    ax[1].legend(handles=[b_patch, o_patch])\n",
        "\n",
        "    # Portfolio value\n",
        "    port_value = df['value'] / df['value'][0]\n",
        "    sns.lineplot(data=port_value, dashes=[(2,2)], ax=ax[2])\n",
        "    ax[2].set_ylabel('Simulated Portfolio Value')\n",
        "    last_value = port_value[-1]\n",
        "    ax[2].axhline(last_value, ls='--',linewidth=1, color='m')\n",
        "    ax[2].annotate((last_value).round(2),xy=(1,last_value),xycoords=('axes fraction','data'),ha='left',va='center',color='black')\n",
        "    ax[2].grid(True)\n",
        "    \n",
        "    # Rolling Accuracy\n",
        "    sns.lineplot(data=df['position_acc'], dashes=[(2,2)], color='g', marker=\"o\", ax=ax[3])\n",
        "    ax[3].set_ylabel('20-Day Buy/Sell/Hold Accuracy')\n",
        "    ax[3].grid(True)\n",
        "    \n",
        "    return fig"
      ],
      "execution_count": 66,
      "outputs": []
    },
    {
      "cell_type": "code",
      "metadata": {
        "colab": {
          "base_uri": "https://localhost:8080/",
          "height": 223
        },
        "id": "e_PlmQuXKQrO",
        "outputId": "f63fd7ca-1653-4cfa-e735-c9dea18dcbfa"
      },
      "source": [
        "X_current, y_current = dp.generate_batch(df, \n",
        "                                         input_timesteps,\n",
        "                                         output_timesteps,\n",
        "                                         INPUT_VAR,\n",
        "                                         TARGET_VAR)\n",
        "\n",
        "\n",
        "_,_,current_result = generate_prediction(gru8_high_acc_1,\n",
        "                                               X_current,\n",
        "                                               y_current,\n",
        "                                               df.index[(input_timesteps+output_timesteps-1):])"
      ],
      "execution_count": 67,
      "outputs": [
        {
          "output_type": "error",
          "ename": "NameError",
          "evalue": "ignored",
          "traceback": [
            "\u001b[0;31m---------------------------------------------------------------------------\u001b[0m",
            "\u001b[0;31mNameError\u001b[0m                                 Traceback (most recent call last)",
            "\u001b[0;32m<ipython-input-67-7a35a81a6479>\u001b[0m in \u001b[0;36m<module>\u001b[0;34m()\u001b[0m\n\u001b[1;32m      1\u001b[0m X_current, y_current = dp.generate_batch(df, \n\u001b[0;32m----> 2\u001b[0;31m                                          \u001b[0minput_timesteps\u001b[0m\u001b[0;34m,\u001b[0m\u001b[0;34m\u001b[0m\u001b[0;34m\u001b[0m\u001b[0m\n\u001b[0m\u001b[1;32m      3\u001b[0m                                          \u001b[0moutput_timesteps\u001b[0m\u001b[0;34m,\u001b[0m\u001b[0;34m\u001b[0m\u001b[0;34m\u001b[0m\u001b[0m\n\u001b[1;32m      4\u001b[0m                                          \u001b[0mINPUT_VAR\u001b[0m\u001b[0;34m,\u001b[0m\u001b[0;34m\u001b[0m\u001b[0;34m\u001b[0m\u001b[0m\n\u001b[1;32m      5\u001b[0m                                          TARGET_VAR)\n",
            "\u001b[0;31mNameError\u001b[0m: name 'input_timesteps' is not defined"
          ]
        }
      ]
    },
    {
      "cell_type": "code",
      "metadata": {
        "id": "kXKzuevLKQrO"
      },
      "source": [
        "ha_df"
      ],
      "execution_count": null,
      "outputs": []
    },
    {
      "cell_type": "code",
      "metadata": {
        "scrolled": false,
        "id": "8CTm-UbqKQrP"
      },
      "source": [
        "from datetime import date\n",
        "\n",
        "models = [gru8_high_acc_1,gru8_high_acc_2,gru8_high_acc_3,gru8_high_acc_4,gru8_high_acc_6,gru9_high_acc_ffill_1,gru9_high_acc_ffill_2]\n",
        "models_name = ['gru8_high_acc_1','gru8_high_acc_2','gru8_high_acc_3','gru8_high_acc_4','gru8_high_acc_6','gru9_high_acc_ffill_1','gru9_high_acc_ffill_2']\n",
        "pred_ensemble = []\n",
        "ha_date_prediction = pd.DataFrame()\n",
        "\n",
        "# Genrate prediction from all model\n",
        "for index,model in enumerate(models):\n",
        "    pred,true,current_result = generate_prediction(model,\n",
        "                                               X_current,\n",
        "                                               y_current,\n",
        "                                               df.index[(input_timesteps+output_timesteps-1):])\n",
        "    val = target_inverse_transform(current_result['pred'].iloc[-day_count:].values).round(2) # get last X days\n",
        "    pred_ensemble.append(val)\n",
        "    ha_date_prediction['date'] = current_result['date']\n",
        "    ha_date_prediction[f'nd_pred_{index}'] = current_result['pred']\n",
        "\n",
        "# Convert to ndarray\n",
        "pred_ensemble_npa = np.array(pred_ensemble)\n",
        "today = date.today()\n",
        "\n",
        "# Display and save result\n",
        "ha_df = pd.DataFrame.from_dict({'model': models_name})\n",
        "\n",
        "def highlight_sign(s): \n",
        "    res = ['color: red;' if x < -0.28 else 'color: green;' if x > 0.17 else 'color:black' for x in s] \n",
        "    return res\n",
        "\n",
        "ha_df[today.strftime(\"%b %d, %Y\")] = pred_ensemble_npa[:,-1]\n",
        "for d in range(1, day_count):\n",
        "    ha_df[df.index[-d].date().strftime(\"%b %d, %Y\")] = pred_ensemble_npa[:,-1-d]\n",
        "    \n",
        "# Add avg, median\n",
        "ha_df.loc[ha_df.index.max() + 1] = ['AVERAGE'] + np.flip(np.average(pred_ensemble_npa, axis=0),0).tolist()\n",
        "ha_df.loc[ha_df.index.max() + 1] = ['MEDIAN'] + np.flip(np.median(pred_ensemble_npa, axis=0),0).tolist()\n",
        "\n",
        "# Addd actual 3-day lQ45\n",
        "# blender.loc[blender.index.max() + 1] = ['LQ45 3-DAY CHG'] + lq45_actual\n",
        "lq45_actual = [np.nan] + np.flip(target_inverse_transform(current_result['true'].iloc[-day_count:].values).round(2)).tolist()[:-1]\n",
        "ha_df.loc[ha_df.index.max() + 1] = ['LQ45 3-DAY CHG'] + lq45_actual\n",
        "\n",
        "# Create dataframe to display portfolio value over time\n",
        "ha_date_prediction.date = ha_date_prediction.date.shift(-1)\n",
        "ha_date_prediction.date.iat[-1] = datetime.today().strftime('%Y-%m-%d')\n",
        "ha_date_prediction.set_index(['date'],inplace=True)\n",
        "ha_date_prediction['avg_pred'] = ha_date_prediction.mean(axis=1)\n",
        "ha_date_prediction['median_pred'] = ha_date_prediction.median(axis=1)\n",
        "ha_date_prediction['pred'] = ha_date_prediction['avg_pred']\n",
        "ha_date_prediction['true'] = current_result['true'].values\n",
        "\n",
        "# Styling and Display table\n",
        "ha_df.set_index(['model'],inplace=True)\n",
        "ha_df_styled = ha_df.style.format('{0:,.2f}%', na_rep=\"-\")\n",
        "ha_df_styled = ha_df_styled.set_caption(\"LQ45 Future 3-Day Forecast - high_acc model\").apply(highlight_sign)\n",
        "ha_df_styled = ha_df_styled.apply(lambda x: ['background: lightblue' if x.name in ['AVERAGE','MEDIAN','LQ45 3-DAY CHG'] else '' for i in x], axis=1)\n",
        "ha_df_styled = ha_df_styled.apply(lambda x: ['background: gold' if x.name in ['LQ45 3-DAY CHG'] else '' for i in x], axis=1)\n",
        "ha_df_styled"
      ],
      "execution_count": null,
      "outputs": []
    },
    {
      "cell_type": "code",
      "metadata": {
        "scrolled": false,
        "id": "KaTOn5AMKQrP"
      },
      "source": [
        "res = ha_date_prediction.pipe(determine_buy_sell_acc, 0.15, -0.20)\n",
        "res = ha_date_prediction.pipe(calc_rolling_acc)\n",
        "res = res.merge(df[['LQ45','target']], how='left', left_index=True, right_index=True).copy()\n",
        "res = res[:-1] # Remove last element because NaN\n",
        "\n",
        "ha_returns = tm.simulate_position(res, 0.15, -0.20, closing_price_name='LQ45',buy_fee=0.0025,sell_fee=0.003)#dp.generate_returns(res)\n",
        "ha_fig = plot_returns(ha_returns, closing_price_name='LQ45', title='')\n",
        "ha_fig.savefig('ha_fig.png', bbox_inches='tight')"
      ],
      "execution_count": null,
      "outputs": []
    },
    {
      "cell_type": "code",
      "metadata": {
        "scrolled": false,
        "colab": {
          "base_uri": "https://localhost:8080/",
          "height": 191
        },
        "id": "vwGyYC3_KQrP",
        "outputId": "fb5894c0-fbd1-4e0c-ba52-aec046aa93a2"
      },
      "source": [
        "def plot_gauge(value):\n",
        "    color = 'red'\n",
        "    recommendation = 'Sell'\n",
        "    val = value * 10\n",
        "    if val > -2:\n",
        "        color = 'yellow'\n",
        "        recommendation = 'Hold'\n",
        "    if val > 1.5:\n",
        "        color = 'green'\n",
        "        recommendation = 'Buy'\n",
        "\n",
        "    fig = go.Figure(go.Indicator(\n",
        "        mode = \"gauge+number\",\n",
        "        value = (val + 10)/2,\n",
        "        domain = {'x': [0, 1], 'y': [0, 1]},\n",
        "        title = {\"text\": \"Recommendation : <span style='font-size:1.2em;font-weight: bold;color:\"+color+\"'>\" +recommendation+ \"</span>\"},\n",
        "        gauge = {'axis': {'range': [0, 10]},\n",
        "                 'bar': {'color': color},\n",
        "                 'steps' : [\n",
        "                     {'range': [0, 4], 'color': \"white\"},\n",
        "                     {'range': [4, 6], 'color': \"lightgray\"},\n",
        "                     {'range': [6, 10], 'color': \"gray\"}],'threshold': {\n",
        "            'line': {'color': \"red\", 'width': 4},\n",
        "            'thickness': 0.9,\n",
        "            'value': (val + 10)/2}}))\n",
        "\n",
        "    fig.show()\n",
        "    fig.write_image(file='gekko_gauge.png', format='.png')\n",
        "    \n",
        "plot_gauge(res.avg_pred[-1])"
      ],
      "execution_count": 68,
      "outputs": [
        {
          "output_type": "error",
          "ename": "NameError",
          "evalue": "ignored",
          "traceback": [
            "\u001b[0;31m---------------------------------------------------------------------------\u001b[0m",
            "\u001b[0;31mNameError\u001b[0m                                 Traceback (most recent call last)",
            "\u001b[0;32m<ipython-input-68-a0bdb61d2aab>\u001b[0m in \u001b[0;36m<module>\u001b[0;34m()\u001b[0m\n\u001b[1;32m     28\u001b[0m     \u001b[0mfig\u001b[0m\u001b[0;34m.\u001b[0m\u001b[0mwrite_image\u001b[0m\u001b[0;34m(\u001b[0m\u001b[0mfile\u001b[0m\u001b[0;34m=\u001b[0m\u001b[0;34m'gekko_gauge.png'\u001b[0m\u001b[0;34m,\u001b[0m \u001b[0mformat\u001b[0m\u001b[0;34m=\u001b[0m\u001b[0;34m'.png'\u001b[0m\u001b[0;34m)\u001b[0m\u001b[0;34m\u001b[0m\u001b[0;34m\u001b[0m\u001b[0m\n\u001b[1;32m     29\u001b[0m \u001b[0;34m\u001b[0m\u001b[0m\n\u001b[0;32m---> 30\u001b[0;31m \u001b[0mplot_gauge\u001b[0m\u001b[0;34m(\u001b[0m\u001b[0mres\u001b[0m\u001b[0;34m.\u001b[0m\u001b[0mavg_pred\u001b[0m\u001b[0;34m[\u001b[0m\u001b[0;34m-\u001b[0m\u001b[0;36m1\u001b[0m\u001b[0;34m]\u001b[0m\u001b[0;34m)\u001b[0m\u001b[0;34m\u001b[0m\u001b[0;34m\u001b[0m\u001b[0m\n\u001b[0m",
            "\u001b[0;31mNameError\u001b[0m: name 'res' is not defined"
          ]
        }
      ]
    },
    {
      "cell_type": "markdown",
      "metadata": {
        "id": "4NCInv4dKQrQ"
      },
      "source": [
        "# Run model `gekko`"
      ]
    },
    {
      "cell_type": "code",
      "metadata": {
        "id": "YOqijCivKQrQ"
      },
      "source": [
        "# Order is different from GRU7_refactored code\n",
        "INPUT_VAR2 = ['momentum','IDX30_IHSG_grad','EIDO_SPY_grad','total_val_grad','for_flow_ma','dom_val_ma']\n",
        "diamond_hand_1 = tf.keras.models.load_model('gekko/gekko1.hdf5', compile=False )\n",
        "diamond_hand_2 = tf.keras.models.load_model('gekko/gekko2.hdf5', compile=False )\n",
        "diamond_hand_3 = tf.keras.models.load_model('gekko/gekko3.hdf5', compile=False )\n",
        "diamond_hand_4 = tf.keras.models.load_model('gekko/gekko4.hdf5', compile=False )\n",
        "diamond_hand_5 = tf.keras.models.load_model('gekko/gekko5.hdf5', compile=False )"
      ],
      "execution_count": null,
      "outputs": []
    },
    {
      "cell_type": "code",
      "metadata": {
        "id": "FY2GXHmEKQrQ",
        "outputId": "a4c97b77-723a-460d-ac05-380614514a5a"
      },
      "source": [
        "# df['momentum'] = dp.momentum_transformation(df, 'LQ45', ma_span=4, normalized=False)\n",
        "df[INPUT_VAR2].tail(50)"
      ],
      "execution_count": null,
      "outputs": [
        {
          "output_type": "execute_result",
          "data": {
            "text/html": [
              "<div>\n",
              "<style scoped>\n",
              "    .dataframe tbody tr th:only-of-type {\n",
              "        vertical-align: middle;\n",
              "    }\n",
              "\n",
              "    .dataframe tbody tr th {\n",
              "        vertical-align: top;\n",
              "    }\n",
              "\n",
              "    .dataframe thead th {\n",
              "        text-align: right;\n",
              "    }\n",
              "</style>\n",
              "<table border=\"1\" class=\"dataframe\">\n",
              "  <thead>\n",
              "    <tr style=\"text-align: right;\">\n",
              "      <th></th>\n",
              "      <th>momentum</th>\n",
              "      <th>IDX30_IHSG_grad</th>\n",
              "      <th>EIDO_SPY_grad</th>\n",
              "      <th>total_val_grad</th>\n",
              "      <th>for_flow_ma</th>\n",
              "      <th>dom_val_ma</th>\n",
              "    </tr>\n",
              "    <tr>\n",
              "      <th>Date</th>\n",
              "      <th></th>\n",
              "      <th></th>\n",
              "      <th></th>\n",
              "      <th></th>\n",
              "      <th></th>\n",
              "      <th></th>\n",
              "    </tr>\n",
              "  </thead>\n",
              "  <tbody>\n",
              "    <tr>\n",
              "      <th>2021-02-22</th>\n",
              "      <td>3.630000</td>\n",
              "      <td>-1.549116</td>\n",
              "      <td>-1.270722</td>\n",
              "      <td>-0.715673</td>\n",
              "      <td>20.394832</td>\n",
              "      <td>-0.106443</td>\n",
              "    </tr>\n",
              "    <tr>\n",
              "      <th>2021-02-23</th>\n",
              "      <td>8.465000</td>\n",
              "      <td>-1.029987</td>\n",
              "      <td>-0.129386</td>\n",
              "      <td>0.023460</td>\n",
              "      <td>20.707986</td>\n",
              "      <td>-0.037306</td>\n",
              "    </tr>\n",
              "    <tr>\n",
              "      <th>2021-02-24</th>\n",
              "      <td>-2.535000</td>\n",
              "      <td>-0.602988</td>\n",
              "      <td>0.297941</td>\n",
              "      <td>2.030523</td>\n",
              "      <td>21.167598</td>\n",
              "      <td>0.104980</td>\n",
              "    </tr>\n",
              "    <tr>\n",
              "      <th>2021-02-25</th>\n",
              "      <td>-0.887500</td>\n",
              "      <td>-0.341243</td>\n",
              "      <td>1.471132</td>\n",
              "      <td>1.546248</td>\n",
              "      <td>21.119597</td>\n",
              "      <td>0.167836</td>\n",
              "    </tr>\n",
              "    <tr>\n",
              "      <th>2021-02-26</th>\n",
              "      <td>-7.055000</td>\n",
              "      <td>-0.371491</td>\n",
              "      <td>2.711847</td>\n",
              "      <td>4.654130</td>\n",
              "      <td>21.743407</td>\n",
              "      <td>0.168898</td>\n",
              "    </tr>\n",
              "    <tr>\n",
              "      <th>2021-03-01</th>\n",
              "      <td>13.787500</td>\n",
              "      <td>-0.006637</td>\n",
              "      <td>2.916011</td>\n",
              "      <td>3.835739</td>\n",
              "      <td>21.814481</td>\n",
              "      <td>0.173242</td>\n",
              "    </tr>\n",
              "    <tr>\n",
              "      <th>2021-03-02</th>\n",
              "      <td>9.492500</td>\n",
              "      <td>-0.063436</td>\n",
              "      <td>2.645367</td>\n",
              "      <td>3.275145</td>\n",
              "      <td>22.194230</td>\n",
              "      <td>0.175230</td>\n",
              "    </tr>\n",
              "    <tr>\n",
              "      <th>2021-03-03</th>\n",
              "      <td>6.132500</td>\n",
              "      <td>-0.047189</td>\n",
              "      <td>2.586752</td>\n",
              "      <td>-0.710991</td>\n",
              "      <td>21.479434</td>\n",
              "      <td>0.193781</td>\n",
              "    </tr>\n",
              "    <tr>\n",
              "      <th>2021-03-04</th>\n",
              "      <td>-14.547500</td>\n",
              "      <td>-0.029475</td>\n",
              "      <td>3.768714</td>\n",
              "      <td>-0.974319</td>\n",
              "      <td>21.721732</td>\n",
              "      <td>0.124174</td>\n",
              "    </tr>\n",
              "    <tr>\n",
              "      <th>2021-03-05</th>\n",
              "      <td>-15.067500</td>\n",
              "      <td>-0.159033</td>\n",
              "      <td>2.859398</td>\n",
              "      <td>-0.411875</td>\n",
              "      <td>21.525528</td>\n",
              "      <td>-0.055842</td>\n",
              "    </tr>\n",
              "    <tr>\n",
              "      <th>2021-03-08</th>\n",
              "      <td>-9.340000</td>\n",
              "      <td>-0.700320</td>\n",
              "      <td>1.618989</td>\n",
              "      <td>-1.003127</td>\n",
              "      <td>20.659846</td>\n",
              "      <td>-0.131664</td>\n",
              "    </tr>\n",
              "    <tr>\n",
              "      <th>2021-03-09</th>\n",
              "      <td>-11.627500</td>\n",
              "      <td>-1.103200</td>\n",
              "      <td>1.220020</td>\n",
              "      <td>-1.300453</td>\n",
              "      <td>19.747412</td>\n",
              "      <td>-0.229894</td>\n",
              "    </tr>\n",
              "    <tr>\n",
              "      <th>2021-03-10</th>\n",
              "      <td>2.040000</td>\n",
              "      <td>-1.506518</td>\n",
              "      <td>0.397550</td>\n",
              "      <td>-3.735513</td>\n",
              "      <td>18.973069</td>\n",
              "      <td>-0.197007</td>\n",
              "    </tr>\n",
              "    <tr>\n",
              "      <th>2021-03-11</th>\n",
              "      <td>2.580000</td>\n",
              "      <td>-1.468787</td>\n",
              "      <td>-1.686213</td>\n",
              "      <td>-3.821203</td>\n",
              "      <td>18.054936</td>\n",
              "      <td>-0.158969</td>\n",
              "    </tr>\n",
              "    <tr>\n",
              "      <th>2021-03-12</th>\n",
              "      <td>11.560000</td>\n",
              "      <td>-1.554527</td>\n",
              "      <td>-4.915523</td>\n",
              "      <td>-3.434439</td>\n",
              "      <td>18.208530</td>\n",
              "      <td>-0.298756</td>\n",
              "    </tr>\n",
              "    <tr>\n",
              "      <th>2021-03-15</th>\n",
              "      <td>0.010000</td>\n",
              "      <td>-1.786596</td>\n",
              "      <td>-6.319758</td>\n",
              "      <td>-2.841841</td>\n",
              "      <td>17.674052</td>\n",
              "      <td>-0.318991</td>\n",
              "    </tr>\n",
              "    <tr>\n",
              "      <th>2021-03-16</th>\n",
              "      <td>-0.947500</td>\n",
              "      <td>-1.742440</td>\n",
              "      <td>-7.553227</td>\n",
              "      <td>-1.898772</td>\n",
              "      <td>17.054021</td>\n",
              "      <td>-0.218971</td>\n",
              "    </tr>\n",
              "    <tr>\n",
              "      <th>2021-03-17</th>\n",
              "      <td>-4.535000</td>\n",
              "      <td>-1.494906</td>\n",
              "      <td>-8.325657</td>\n",
              "      <td>-2.924662</td>\n",
              "      <td>16.933933</td>\n",
              "      <td>-0.121700</td>\n",
              "    </tr>\n",
              "    <tr>\n",
              "      <th>2021-03-18</th>\n",
              "      <td>11.172500</td>\n",
              "      <td>-1.096173</td>\n",
              "      <td>-7.885038</td>\n",
              "      <td>-1.913740</td>\n",
              "      <td>16.583566</td>\n",
              "      <td>0.079083</td>\n",
              "    </tr>\n",
              "    <tr>\n",
              "      <th>2021-03-19</th>\n",
              "      <td>8.410000</td>\n",
              "      <td>-0.525905</td>\n",
              "      <td>-5.740034</td>\n",
              "      <td>-0.755778</td>\n",
              "      <td>16.592041</td>\n",
              "      <td>0.109958</td>\n",
              "    </tr>\n",
              "    <tr>\n",
              "      <th>2021-03-22</th>\n",
              "      <td>-5.342500</td>\n",
              "      <td>-0.096268</td>\n",
              "      <td>-3.567794</td>\n",
              "      <td>-0.450842</td>\n",
              "      <td>16.326859</td>\n",
              "      <td>0.009117</td>\n",
              "    </tr>\n",
              "    <tr>\n",
              "      <th>2021-03-23</th>\n",
              "      <td>-9.325000</td>\n",
              "      <td>0.388429</td>\n",
              "      <td>-1.463878</td>\n",
              "      <td>-0.416009</td>\n",
              "      <td>15.628787</td>\n",
              "      <td>0.071249</td>\n",
              "    </tr>\n",
              "    <tr>\n",
              "      <th>2021-03-24</th>\n",
              "      <td>-16.164983</td>\n",
              "      <td>0.790980</td>\n",
              "      <td>0.731759</td>\n",
              "      <td>-1.283491</td>\n",
              "      <td>15.418483</td>\n",
              "      <td>0.097400</td>\n",
              "    </tr>\n",
              "    <tr>\n",
              "      <th>2021-03-25</th>\n",
              "      <td>-9.188983</td>\n",
              "      <td>0.865570</td>\n",
              "      <td>2.269622</td>\n",
              "      <td>-0.546681</td>\n",
              "      <td>15.171580</td>\n",
              "      <td>0.088543</td>\n",
              "    </tr>\n",
              "    <tr>\n",
              "      <th>2021-03-26</th>\n",
              "      <td>6.335500</td>\n",
              "      <td>1.005731</td>\n",
              "      <td>2.083567</td>\n",
              "      <td>-0.568779</td>\n",
              "      <td>15.169786</td>\n",
              "      <td>0.100465</td>\n",
              "    </tr>\n",
              "    <tr>\n",
              "      <th>2021-03-29</th>\n",
              "      <td>2.779983</td>\n",
              "      <td>1.407887</td>\n",
              "      <td>0.368521</td>\n",
              "      <td>-0.580263</td>\n",
              "      <td>14.950081</td>\n",
              "      <td>0.018001</td>\n",
              "    </tr>\n",
              "    <tr>\n",
              "      <th>2021-03-30</th>\n",
              "      <td>-11.594498</td>\n",
              "      <td>1.386992</td>\n",
              "      <td>-0.668755</td>\n",
              "      <td>-0.628770</td>\n",
              "      <td>14.857836</td>\n",
              "      <td>-0.107416</td>\n",
              "    </tr>\n",
              "    <tr>\n",
              "      <th>2021-03-31</th>\n",
              "      <td>-20.217009</td>\n",
              "      <td>1.254126</td>\n",
              "      <td>-2.449855</td>\n",
              "      <td>-0.331593</td>\n",
              "      <td>15.243616</td>\n",
              "      <td>-0.207551</td>\n",
              "    </tr>\n",
              "    <tr>\n",
              "      <th>2021-04-01</th>\n",
              "      <td>-11.907492</td>\n",
              "      <td>0.783556</td>\n",
              "      <td>-4.873589</td>\n",
              "      <td>-0.321519</td>\n",
              "      <td>14.860652</td>\n",
              "      <td>-0.371396</td>\n",
              "    </tr>\n",
              "    <tr>\n",
              "      <th>2021-04-02</th>\n",
              "      <td>-3.989996</td>\n",
              "      <td>0.244012</td>\n",
              "      <td>-6.931964</td>\n",
              "      <td>-0.532716</td>\n",
              "      <td>14.490429</td>\n",
              "      <td>-0.541748</td>\n",
              "    </tr>\n",
              "    <tr>\n",
              "      <th>2021-04-05</th>\n",
              "      <td>-4.865509</td>\n",
              "      <td>-0.068200</td>\n",
              "      <td>-8.439069</td>\n",
              "      <td>-1.963160</td>\n",
              "      <td>13.977542</td>\n",
              "      <td>-0.584916</td>\n",
              "    </tr>\n",
              "    <tr>\n",
              "      <th>2021-04-06</th>\n",
              "      <td>0.166991</td>\n",
              "      <td>-0.344759</td>\n",
              "      <td>-8.951033</td>\n",
              "      <td>-1.991246</td>\n",
              "      <td>13.736940</td>\n",
              "      <td>-0.641169</td>\n",
              "    </tr>\n",
              "    <tr>\n",
              "      <th>2021-04-07</th>\n",
              "      <td>3.708495</td>\n",
              "      <td>-0.811284</td>\n",
              "      <td>-9.742241</td>\n",
              "      <td>-2.044860</td>\n",
              "      <td>13.363135</td>\n",
              "      <td>-0.731704</td>\n",
              "    </tr>\n",
              "    <tr>\n",
              "      <th>2021-04-08</th>\n",
              "      <td>5.000000</td>\n",
              "      <td>-0.968406</td>\n",
              "      <td>-10.117581</td>\n",
              "      <td>-0.868676</td>\n",
              "      <td>13.343475</td>\n",
              "      <td>-0.751029</td>\n",
              "    </tr>\n",
              "    <tr>\n",
              "      <th>2021-04-09</th>\n",
              "      <td>2.177500</td>\n",
              "      <td>-1.088209</td>\n",
              "      <td>-9.811554</td>\n",
              "      <td>-0.242118</td>\n",
              "      <td>13.235216</td>\n",
              "      <td>-0.597074</td>\n",
              "    </tr>\n",
              "    <tr>\n",
              "      <th>2021-04-12</th>\n",
              "      <td>-17.200000</td>\n",
              "      <td>-1.270006</td>\n",
              "      <td>-10.042014</td>\n",
              "      <td>0.143418</td>\n",
              "      <td>13.346638</td>\n",
              "      <td>-0.468798</td>\n",
              "    </tr>\n",
              "    <tr>\n",
              "      <th>2021-04-13</th>\n",
              "      <td>-12.717500</td>\n",
              "      <td>-1.223777</td>\n",
              "      <td>-9.193254</td>\n",
              "      <td>-0.055094</td>\n",
              "      <td>13.284507</td>\n",
              "      <td>-0.367532</td>\n",
              "    </tr>\n",
              "    <tr>\n",
              "      <th>2021-04-14</th>\n",
              "      <td>10.915000</td>\n",
              "      <td>-1.061516</td>\n",
              "      <td>-8.336868</td>\n",
              "      <td>-0.369937</td>\n",
              "      <td>13.781851</td>\n",
              "      <td>-0.132174</td>\n",
              "    </tr>\n",
              "    <tr>\n",
              "      <th>2021-04-15</th>\n",
              "      <td>13.980000</td>\n",
              "      <td>-0.762322</td>\n",
              "      <td>-7.678286</td>\n",
              "      <td>-0.027787</td>\n",
              "      <td>13.708060</td>\n",
              "      <td>-0.076424</td>\n",
              "    </tr>\n",
              "    <tr>\n",
              "      <th>2021-04-16</th>\n",
              "      <td>7.004987</td>\n",
              "      <td>-0.526759</td>\n",
              "      <td>-7.032840</td>\n",
              "      <td>0.166499</td>\n",
              "      <td>13.878402</td>\n",
              "      <td>0.050028</td>\n",
              "    </tr>\n",
              "    <tr>\n",
              "      <th>2021-04-19</th>\n",
              "      <td>-2.882496</td>\n",
              "      <td>-0.203812</td>\n",
              "      <td>-5.974855</td>\n",
              "      <td>-0.125279</td>\n",
              "      <td>13.780919</td>\n",
              "      <td>0.116595</td>\n",
              "    </tr>\n",
              "    <tr>\n",
              "      <th>2021-04-20</th>\n",
              "      <td>-2.891765</td>\n",
              "      <td>-0.013673</td>\n",
              "      <td>-4.014917</td>\n",
              "      <td>-0.496707</td>\n",
              "      <td>13.157249</td>\n",
              "      <td>0.105884</td>\n",
              "    </tr>\n",
              "    <tr>\n",
              "      <th>2021-04-21</th>\n",
              "      <td>-8.753489</td>\n",
              "      <td>-0.029171</td>\n",
              "      <td>-3.005691</td>\n",
              "      <td>-1.160585</td>\n",
              "      <td>12.818849</td>\n",
              "      <td>0.071429</td>\n",
              "    </tr>\n",
              "    <tr>\n",
              "      <th>2021-04-22</th>\n",
              "      <td>-4.154977</td>\n",
              "      <td>0.010090</td>\n",
              "      <td>-2.442076</td>\n",
              "      <td>-3.411670</td>\n",
              "      <td>11.983556</td>\n",
              "      <td>0.131209</td>\n",
              "    </tr>\n",
              "    <tr>\n",
              "      <th>2021-04-23</th>\n",
              "      <td>4.727493</td>\n",
              "      <td>0.287450</td>\n",
              "      <td>-1.583188</td>\n",
              "      <td>-5.458199</td>\n",
              "      <td>10.808055</td>\n",
              "      <td>-0.021338</td>\n",
              "    </tr>\n",
              "    <tr>\n",
              "      <th>2021-04-26</th>\n",
              "      <td>-3.237253</td>\n",
              "      <td>0.384848</td>\n",
              "      <td>-0.877848</td>\n",
              "      <td>-6.653432</td>\n",
              "      <td>9.836462</td>\n",
              "      <td>-0.095337</td>\n",
              "    </tr>\n",
              "    <tr>\n",
              "      <th>2021-04-27</th>\n",
              "      <td>-3.707503</td>\n",
              "      <td>0.405909</td>\n",
              "      <td>-0.879414</td>\n",
              "      <td>-5.925291</td>\n",
              "      <td>8.823184</td>\n",
              "      <td>-0.143330</td>\n",
              "    </tr>\n",
              "    <tr>\n",
              "      <th>2021-04-28</th>\n",
              "      <td>-3.391014</td>\n",
              "      <td>0.360729</td>\n",
              "      <td>-1.595620</td>\n",
              "      <td>-2.840273</td>\n",
              "      <td>8.877609</td>\n",
              "      <td>-0.206425</td>\n",
              "    </tr>\n",
              "    <tr>\n",
              "      <th>2021-04-29</th>\n",
              "      <td>4.749506</td>\n",
              "      <td>0.333991</td>\n",
              "      <td>-1.906183</td>\n",
              "      <td>-0.073929</td>\n",
              "      <td>9.493413</td>\n",
              "      <td>-0.193878</td>\n",
              "    </tr>\n",
              "    <tr>\n",
              "      <th>2021-04-30</th>\n",
              "      <td>0.274506</td>\n",
              "      <td>0.040894</td>\n",
              "      <td>-2.141935</td>\n",
              "      <td>2.845226</td>\n",
              "      <td>9.840085</td>\n",
              "      <td>-0.094126</td>\n",
              "    </tr>\n",
              "  </tbody>\n",
              "</table>\n",
              "</div>"
            ],
            "text/plain": [
              "             momentum  IDX30_IHSG_grad  EIDO_SPY_grad  total_val_grad  \\\n",
              "Date                                                                    \n",
              "2021-02-22   3.630000        -1.549116      -1.270722       -0.715673   \n",
              "2021-02-23   8.465000        -1.029987      -0.129386        0.023460   \n",
              "2021-02-24  -2.535000        -0.602988       0.297941        2.030523   \n",
              "2021-02-25  -0.887500        -0.341243       1.471132        1.546248   \n",
              "2021-02-26  -7.055000        -0.371491       2.711847        4.654130   \n",
              "2021-03-01  13.787500        -0.006637       2.916011        3.835739   \n",
              "2021-03-02   9.492500        -0.063436       2.645367        3.275145   \n",
              "2021-03-03   6.132500        -0.047189       2.586752       -0.710991   \n",
              "2021-03-04 -14.547500        -0.029475       3.768714       -0.974319   \n",
              "2021-03-05 -15.067500        -0.159033       2.859398       -0.411875   \n",
              "2021-03-08  -9.340000        -0.700320       1.618989       -1.003127   \n",
              "2021-03-09 -11.627500        -1.103200       1.220020       -1.300453   \n",
              "2021-03-10   2.040000        -1.506518       0.397550       -3.735513   \n",
              "2021-03-11   2.580000        -1.468787      -1.686213       -3.821203   \n",
              "2021-03-12  11.560000        -1.554527      -4.915523       -3.434439   \n",
              "2021-03-15   0.010000        -1.786596      -6.319758       -2.841841   \n",
              "2021-03-16  -0.947500        -1.742440      -7.553227       -1.898772   \n",
              "2021-03-17  -4.535000        -1.494906      -8.325657       -2.924662   \n",
              "2021-03-18  11.172500        -1.096173      -7.885038       -1.913740   \n",
              "2021-03-19   8.410000        -0.525905      -5.740034       -0.755778   \n",
              "2021-03-22  -5.342500        -0.096268      -3.567794       -0.450842   \n",
              "2021-03-23  -9.325000         0.388429      -1.463878       -0.416009   \n",
              "2021-03-24 -16.164983         0.790980       0.731759       -1.283491   \n",
              "2021-03-25  -9.188983         0.865570       2.269622       -0.546681   \n",
              "2021-03-26   6.335500         1.005731       2.083567       -0.568779   \n",
              "2021-03-29   2.779983         1.407887       0.368521       -0.580263   \n",
              "2021-03-30 -11.594498         1.386992      -0.668755       -0.628770   \n",
              "2021-03-31 -20.217009         1.254126      -2.449855       -0.331593   \n",
              "2021-04-01 -11.907492         0.783556      -4.873589       -0.321519   \n",
              "2021-04-02  -3.989996         0.244012      -6.931964       -0.532716   \n",
              "2021-04-05  -4.865509        -0.068200      -8.439069       -1.963160   \n",
              "2021-04-06   0.166991        -0.344759      -8.951033       -1.991246   \n",
              "2021-04-07   3.708495        -0.811284      -9.742241       -2.044860   \n",
              "2021-04-08   5.000000        -0.968406     -10.117581       -0.868676   \n",
              "2021-04-09   2.177500        -1.088209      -9.811554       -0.242118   \n",
              "2021-04-12 -17.200000        -1.270006     -10.042014        0.143418   \n",
              "2021-04-13 -12.717500        -1.223777      -9.193254       -0.055094   \n",
              "2021-04-14  10.915000        -1.061516      -8.336868       -0.369937   \n",
              "2021-04-15  13.980000        -0.762322      -7.678286       -0.027787   \n",
              "2021-04-16   7.004987        -0.526759      -7.032840        0.166499   \n",
              "2021-04-19  -2.882496        -0.203812      -5.974855       -0.125279   \n",
              "2021-04-20  -2.891765        -0.013673      -4.014917       -0.496707   \n",
              "2021-04-21  -8.753489        -0.029171      -3.005691       -1.160585   \n",
              "2021-04-22  -4.154977         0.010090      -2.442076       -3.411670   \n",
              "2021-04-23   4.727493         0.287450      -1.583188       -5.458199   \n",
              "2021-04-26  -3.237253         0.384848      -0.877848       -6.653432   \n",
              "2021-04-27  -3.707503         0.405909      -0.879414       -5.925291   \n",
              "2021-04-28  -3.391014         0.360729      -1.595620       -2.840273   \n",
              "2021-04-29   4.749506         0.333991      -1.906183       -0.073929   \n",
              "2021-04-30   0.274506         0.040894      -2.141935        2.845226   \n",
              "\n",
              "            for_flow_ma  dom_val_ma  \n",
              "Date                                 \n",
              "2021-02-22    20.394832   -0.106443  \n",
              "2021-02-23    20.707986   -0.037306  \n",
              "2021-02-24    21.167598    0.104980  \n",
              "2021-02-25    21.119597    0.167836  \n",
              "2021-02-26    21.743407    0.168898  \n",
              "2021-03-01    21.814481    0.173242  \n",
              "2021-03-02    22.194230    0.175230  \n",
              "2021-03-03    21.479434    0.193781  \n",
              "2021-03-04    21.721732    0.124174  \n",
              "2021-03-05    21.525528   -0.055842  \n",
              "2021-03-08    20.659846   -0.131664  \n",
              "2021-03-09    19.747412   -0.229894  \n",
              "2021-03-10    18.973069   -0.197007  \n",
              "2021-03-11    18.054936   -0.158969  \n",
              "2021-03-12    18.208530   -0.298756  \n",
              "2021-03-15    17.674052   -0.318991  \n",
              "2021-03-16    17.054021   -0.218971  \n",
              "2021-03-17    16.933933   -0.121700  \n",
              "2021-03-18    16.583566    0.079083  \n",
              "2021-03-19    16.592041    0.109958  \n",
              "2021-03-22    16.326859    0.009117  \n",
              "2021-03-23    15.628787    0.071249  \n",
              "2021-03-24    15.418483    0.097400  \n",
              "2021-03-25    15.171580    0.088543  \n",
              "2021-03-26    15.169786    0.100465  \n",
              "2021-03-29    14.950081    0.018001  \n",
              "2021-03-30    14.857836   -0.107416  \n",
              "2021-03-31    15.243616   -0.207551  \n",
              "2021-04-01    14.860652   -0.371396  \n",
              "2021-04-02    14.490429   -0.541748  \n",
              "2021-04-05    13.977542   -0.584916  \n",
              "2021-04-06    13.736940   -0.641169  \n",
              "2021-04-07    13.363135   -0.731704  \n",
              "2021-04-08    13.343475   -0.751029  \n",
              "2021-04-09    13.235216   -0.597074  \n",
              "2021-04-12    13.346638   -0.468798  \n",
              "2021-04-13    13.284507   -0.367532  \n",
              "2021-04-14    13.781851   -0.132174  \n",
              "2021-04-15    13.708060   -0.076424  \n",
              "2021-04-16    13.878402    0.050028  \n",
              "2021-04-19    13.780919    0.116595  \n",
              "2021-04-20    13.157249    0.105884  \n",
              "2021-04-21    12.818849    0.071429  \n",
              "2021-04-22    11.983556    0.131209  \n",
              "2021-04-23    10.808055   -0.021338  \n",
              "2021-04-26     9.836462   -0.095337  \n",
              "2021-04-27     8.823184   -0.143330  \n",
              "2021-04-28     8.877609   -0.206425  \n",
              "2021-04-29     9.493413   -0.193878  \n",
              "2021-04-30     9.840085   -0.094126  "
            ]
          },
          "metadata": {
            "tags": []
          },
          "execution_count": 505
        }
      ]
    },
    {
      "cell_type": "code",
      "metadata": {
        "id": "BudGtTpiKQrQ",
        "outputId": "2328bc32-8a2a-4df6-960b-40778deffbed"
      },
      "source": [
        "X_current, y_current = dp.generate_batch(df, \n",
        "                                         input_timesteps,\n",
        "                                         output_timesteps,\n",
        "                                         INPUT_VAR2,\n",
        "                                         TARGET_VAR)\n",
        "\n",
        "models = [diamond_hand_1,diamond_hand_2,diamond_hand_3,diamond_hand_4,diamond_hand_5]\n",
        "models_name = ['gekko1','gekko2','gekko3','gekko4','gekko5']\n",
        "sv_pred_ensemble = []\n",
        "sv_date_prediction = pd.DataFrame()\n",
        "\n",
        "# Genrate prediction from all model\n",
        "for index, model in enumerate(models):\n",
        "    pred,true,current_result = generate_prediction(model,\n",
        "                                               X_current,\n",
        "                                               y_current,\n",
        "                                               df.index[(input_timesteps+output_timesteps-1):])\n",
        "    val = target_inverse_transform(current_result['pred'].iloc[-day_count:].values).round(2)\n",
        "    sv_pred_ensemble.append(val) \n",
        "    sv_date_prediction['date'] = current_result['date']\n",
        "    sv_date_prediction[f'sv_pred_{index}'] = current_result['pred']\n",
        "    \n",
        "# Convert to svarray\n",
        "pred_ensemble_npa = np.array(sv_pred_ensemble)\n",
        "today = date.today()\n",
        "\n",
        "# Display asv save result\n",
        "sv_df = pd.DataFrame.from_dict({'model': models_name})\n",
        "\n",
        "def highlight_sign(s): \n",
        "    res = ['color: red;' if x < -0.28 else 'color: green;' if x > 0.17 else 'color:black' for x in s] \n",
        "    return res\n",
        "\n",
        "sv_df[today.strftime(\"%b %d, %Y\")] = pred_ensemble_npa[:,-1]\n",
        "for d in range(1, day_count):\n",
        "    sv_df[df.index[-d].date().strftime(\"%b %d, %Y\")] = pred_ensemble_npa[:,-1-d]\n",
        "    \n",
        "# Add avg, median\n",
        "sv_df.loc[sv_df.index.max() + 1] = ['AVERAGE'] + np.flip(np.average(pred_ensemble_npa, axis=0),0).tolist()\n",
        "sv_df.loc[sv_df.index.max() + 1] = ['MEDIAN'] + np.flip(np.median(pred_ensemble_npa, axis=0),0).tolist()\n",
        "\n",
        "# Addd actual 3-day lQ45\n",
        "lq45_actual = [np.nan] + np.flip(target_inverse_transform(current_result['true'].iloc[-day_count:].values).round(2)).tolist()[:-1]\n",
        "sv_df.loc[sv_df.index.max() + 1] = ['LQ45 3-DAY CHG'] + lq45_actual\n",
        "\n",
        "# Create dataframe to display portfolio value over time\n",
        "sv_date_prediction.date = sv_date_prediction.date.shift(-1)\n",
        "sv_date_prediction.date.iat[-1] = datetime.today().strftime('%Y-%m-%d')\n",
        "sv_date_prediction.set_index(['date'],inplace=True)\n",
        "sv_date_prediction['avg_pred'] = sv_date_prediction.mean(axis=1)\n",
        "sv_date_prediction['median_pred'] = sv_date_prediction.median(axis=1)\n",
        "sv_date_prediction['pred'] = sv_date_prediction['avg_pred']\n",
        "sv_date_prediction['true'] = current_result['true'].values\n",
        "\n",
        "# Styling asv Display table\n",
        "sv_df.set_index(['model'],inplace=True)\n",
        "sv_df_styled = sv_df.style.format('{0:,.2f}%', na_rep=\"-\")\n",
        "sv_df_styled = sv_df_styled.set_caption(\"LQ45 Future 3-Day Forecast - diamond_hands model\").apply(highlight_sign)\n",
        "sv_df_styled = sv_df_styled.apply(lambda x: ['background: lightblue' if x.name in ['AVERAGE','MEDIAN','LQ45 3-DAY CHG'] else '' for i in x], axis=1)\n",
        "sv_df_styled = sv_df_styled.apply(lambda x: ['background: gold' if x.name in ['LQ45 3-DAY CHG'] else '' for i in x], axis=1)\n",
        "sv_df_styled"
      ],
      "execution_count": null,
      "outputs": [
        {
          "output_type": "execute_result",
          "data": {
            "text/html": [
              "<style  type=\"text/css\" >\n",
              "#T_27f96_row0_col0,#T_27f96_row0_col1,#T_27f96_row0_col2,#T_27f96_row0_col3,#T_27f96_row0_col4,#T_27f96_row0_col5,#T_27f96_row0_col6,#T_27f96_row0_col7,#T_27f96_row1_col0,#T_27f96_row1_col1,#T_27f96_row1_col2,#T_27f96_row1_col3,#T_27f96_row1_col4,#T_27f96_row1_col5,#T_27f96_row2_col0,#T_27f96_row2_col1,#T_27f96_row2_col2,#T_27f96_row2_col3,#T_27f96_row3_col0,#T_27f96_row3_col1,#T_27f96_row3_col2,#T_27f96_row3_col3,#T_27f96_row3_col4,#T_27f96_row3_col5,#T_27f96_row3_col6,#T_27f96_row4_col0,#T_27f96_row4_col1,#T_27f96_row4_col2,#T_27f96_row4_col3{\n",
              "            color:  green;\n",
              "        }#T_27f96_row0_col8,#T_27f96_row0_col9,#T_27f96_row1_col7,#T_27f96_row1_col8,#T_27f96_row1_col9,#T_27f96_row2_col6,#T_27f96_row2_col7,#T_27f96_row2_col8,#T_27f96_row2_col9,#T_27f96_row3_col8,#T_27f96_row3_col9,#T_27f96_row4_col6,#T_27f96_row4_col7,#T_27f96_row4_col8,#T_27f96_row4_col9{\n",
              "            color:  red;\n",
              "        }#T_27f96_row1_col6,#T_27f96_row2_col4,#T_27f96_row2_col5,#T_27f96_row3_col7,#T_27f96_row4_col4,#T_27f96_row4_col5{\n",
              "            color: black;\n",
              "        }#T_27f96_row5_col0,#T_27f96_row5_col1,#T_27f96_row5_col2,#T_27f96_row5_col3,#T_27f96_row5_col4,#T_27f96_row5_col5,#T_27f96_row5_col6,#T_27f96_row6_col0,#T_27f96_row6_col1,#T_27f96_row6_col2,#T_27f96_row6_col3,#T_27f96_row6_col4,#T_27f96_row6_col5{\n",
              "            color:  green;\n",
              "            background:  lightblue;\n",
              "        }#T_27f96_row5_col7,#T_27f96_row5_col8,#T_27f96_row5_col9,#T_27f96_row6_col7,#T_27f96_row6_col8,#T_27f96_row6_col9{\n",
              "            color:  red;\n",
              "            background:  lightblue;\n",
              "        }#T_27f96_row6_col6{\n",
              "            color: black;\n",
              "            background:  lightblue;\n",
              "        }#T_27f96_row7_col0,#T_27f96_row7_col1,#T_27f96_row7_col2,#T_27f96_row7_col7,#T_27f96_row7_col8{\n",
              "            color: black;\n",
              "            background:  lightblue;\n",
              "            background:  gold;\n",
              "        }#T_27f96_row7_col3,#T_27f96_row7_col4{\n",
              "            color:  green;\n",
              "            background:  lightblue;\n",
              "            background:  gold;\n",
              "        }#T_27f96_row7_col5,#T_27f96_row7_col6,#T_27f96_row7_col9{\n",
              "            color:  red;\n",
              "            background:  lightblue;\n",
              "            background:  gold;\n",
              "        }</style><table id=\"T_27f96_\" ><caption>LQ45 Future 3-Day Forecast - diamond_hands model</caption><thead>    <tr>        <th class=\"blank level0\" ></th>        <th class=\"col_heading level0 col0\" >May 03, 2021</th>        <th class=\"col_heading level0 col1\" >Apr 30, 2021</th>        <th class=\"col_heading level0 col2\" >Apr 29, 2021</th>        <th class=\"col_heading level0 col3\" >Apr 28, 2021</th>        <th class=\"col_heading level0 col4\" >Apr 27, 2021</th>        <th class=\"col_heading level0 col5\" >Apr 26, 2021</th>        <th class=\"col_heading level0 col6\" >Apr 23, 2021</th>        <th class=\"col_heading level0 col7\" >Apr 22, 2021</th>        <th class=\"col_heading level0 col8\" >Apr 21, 2021</th>        <th class=\"col_heading level0 col9\" >Apr 20, 2021</th>    </tr>    <tr>        <th class=\"index_name level0\" >model</th>        <th class=\"blank\" ></th>        <th class=\"blank\" ></th>        <th class=\"blank\" ></th>        <th class=\"blank\" ></th>        <th class=\"blank\" ></th>        <th class=\"blank\" ></th>        <th class=\"blank\" ></th>        <th class=\"blank\" ></th>        <th class=\"blank\" ></th>        <th class=\"blank\" ></th>    </tr></thead><tbody>\n",
              "                <tr>\n",
              "                        <th id=\"T_27f96_level0_row0\" class=\"row_heading level0 row0\" >gekko1</th>\n",
              "                        <td id=\"T_27f96_row0_col0\" class=\"data row0 col0\" >1.47%</td>\n",
              "                        <td id=\"T_27f96_row0_col1\" class=\"data row0 col1\" >2.02%</td>\n",
              "                        <td id=\"T_27f96_row0_col2\" class=\"data row0 col2\" >2.18%</td>\n",
              "                        <td id=\"T_27f96_row0_col3\" class=\"data row0 col3\" >2.15%</td>\n",
              "                        <td id=\"T_27f96_row0_col4\" class=\"data row0 col4\" >1.79%</td>\n",
              "                        <td id=\"T_27f96_row0_col5\" class=\"data row0 col5\" >1.91%</td>\n",
              "                        <td id=\"T_27f96_row0_col6\" class=\"data row0 col6\" >1.73%</td>\n",
              "                        <td id=\"T_27f96_row0_col7\" class=\"data row0 col7\" >0.78%</td>\n",
              "                        <td id=\"T_27f96_row0_col8\" class=\"data row0 col8\" >-0.98%</td>\n",
              "                        <td id=\"T_27f96_row0_col9\" class=\"data row0 col9\" >-1.55%</td>\n",
              "            </tr>\n",
              "            <tr>\n",
              "                        <th id=\"T_27f96_level0_row1\" class=\"row_heading level0 row1\" >gekko2</th>\n",
              "                        <td id=\"T_27f96_row1_col0\" class=\"data row1 col0\" >0.94%</td>\n",
              "                        <td id=\"T_27f96_row1_col1\" class=\"data row1 col1\" >1.40%</td>\n",
              "                        <td id=\"T_27f96_row1_col2\" class=\"data row1 col2\" >1.31%</td>\n",
              "                        <td id=\"T_27f96_row1_col3\" class=\"data row1 col3\" >0.86%</td>\n",
              "                        <td id=\"T_27f96_row1_col4\" class=\"data row1 col4\" >0.44%</td>\n",
              "                        <td id=\"T_27f96_row1_col5\" class=\"data row1 col5\" >0.52%</td>\n",
              "                        <td id=\"T_27f96_row1_col6\" class=\"data row1 col6\" >-0.06%</td>\n",
              "                        <td id=\"T_27f96_row1_col7\" class=\"data row1 col7\" >-0.95%</td>\n",
              "                        <td id=\"T_27f96_row1_col8\" class=\"data row1 col8\" >-1.50%</td>\n",
              "                        <td id=\"T_27f96_row1_col9\" class=\"data row1 col9\" >-1.56%</td>\n",
              "            </tr>\n",
              "            <tr>\n",
              "                        <th id=\"T_27f96_level0_row2\" class=\"row_heading level0 row2\" >gekko3</th>\n",
              "                        <td id=\"T_27f96_row2_col0\" class=\"data row2 col0\" >0.38%</td>\n",
              "                        <td id=\"T_27f96_row2_col1\" class=\"data row2 col1\" >1.06%</td>\n",
              "                        <td id=\"T_27f96_row2_col2\" class=\"data row2 col2\" >1.14%</td>\n",
              "                        <td id=\"T_27f96_row2_col3\" class=\"data row2 col3\" >0.80%</td>\n",
              "                        <td id=\"T_27f96_row2_col4\" class=\"data row2 col4\" >0.13%</td>\n",
              "                        <td id=\"T_27f96_row2_col5\" class=\"data row2 col5\" >0.12%</td>\n",
              "                        <td id=\"T_27f96_row2_col6\" class=\"data row2 col6\" >-0.29%</td>\n",
              "                        <td id=\"T_27f96_row2_col7\" class=\"data row2 col7\" >-0.93%</td>\n",
              "                        <td id=\"T_27f96_row2_col8\" class=\"data row2 col8\" >-1.30%</td>\n",
              "                        <td id=\"T_27f96_row2_col9\" class=\"data row2 col9\" >-1.74%</td>\n",
              "            </tr>\n",
              "            <tr>\n",
              "                        <th id=\"T_27f96_level0_row3\" class=\"row_heading level0 row3\" >gekko4</th>\n",
              "                        <td id=\"T_27f96_row3_col0\" class=\"data row3 col0\" >1.12%</td>\n",
              "                        <td id=\"T_27f96_row3_col1\" class=\"data row3 col1\" >1.60%</td>\n",
              "                        <td id=\"T_27f96_row3_col2\" class=\"data row3 col2\" >1.48%</td>\n",
              "                        <td id=\"T_27f96_row3_col3\" class=\"data row3 col3\" >1.19%</td>\n",
              "                        <td id=\"T_27f96_row3_col4\" class=\"data row3 col4\" >0.76%</td>\n",
              "                        <td id=\"T_27f96_row3_col5\" class=\"data row3 col5\" >1.17%</td>\n",
              "                        <td id=\"T_27f96_row3_col6\" class=\"data row3 col6\" >0.81%</td>\n",
              "                        <td id=\"T_27f96_row3_col7\" class=\"data row3 col7\" >-0.21%</td>\n",
              "                        <td id=\"T_27f96_row3_col8\" class=\"data row3 col8\" >-0.80%</td>\n",
              "                        <td id=\"T_27f96_row3_col9\" class=\"data row3 col9\" >-0.83%</td>\n",
              "            </tr>\n",
              "            <tr>\n",
              "                        <th id=\"T_27f96_level0_row4\" class=\"row_heading level0 row4\" >gekko5</th>\n",
              "                        <td id=\"T_27f96_row4_col0\" class=\"data row4 col0\" >1.73%</td>\n",
              "                        <td id=\"T_27f96_row4_col1\" class=\"data row4 col1\" >2.12%</td>\n",
              "                        <td id=\"T_27f96_row4_col2\" class=\"data row4 col2\" >2.09%</td>\n",
              "                        <td id=\"T_27f96_row4_col3\" class=\"data row4 col3\" >1.80%</td>\n",
              "                        <td id=\"T_27f96_row4_col4\" class=\"data row4 col4\" >0.05%</td>\n",
              "                        <td id=\"T_27f96_row4_col5\" class=\"data row4 col5\" >-0.09%</td>\n",
              "                        <td id=\"T_27f96_row4_col6\" class=\"data row4 col6\" >-0.55%</td>\n",
              "                        <td id=\"T_27f96_row4_col7\" class=\"data row4 col7\" >-1.58%</td>\n",
              "                        <td id=\"T_27f96_row4_col8\" class=\"data row4 col8\" >-2.02%</td>\n",
              "                        <td id=\"T_27f96_row4_col9\" class=\"data row4 col9\" >-2.13%</td>\n",
              "            </tr>\n",
              "            <tr>\n",
              "                        <th id=\"T_27f96_level0_row5\" class=\"row_heading level0 row5\" >AVERAGE</th>\n",
              "                        <td id=\"T_27f96_row5_col0\" class=\"data row5 col0\" >1.13%</td>\n",
              "                        <td id=\"T_27f96_row5_col1\" class=\"data row5 col1\" >1.64%</td>\n",
              "                        <td id=\"T_27f96_row5_col2\" class=\"data row5 col2\" >1.64%</td>\n",
              "                        <td id=\"T_27f96_row5_col3\" class=\"data row5 col3\" >1.36%</td>\n",
              "                        <td id=\"T_27f96_row5_col4\" class=\"data row5 col4\" >0.63%</td>\n",
              "                        <td id=\"T_27f96_row5_col5\" class=\"data row5 col5\" >0.73%</td>\n",
              "                        <td id=\"T_27f96_row5_col6\" class=\"data row5 col6\" >0.33%</td>\n",
              "                        <td id=\"T_27f96_row5_col7\" class=\"data row5 col7\" >-0.58%</td>\n",
              "                        <td id=\"T_27f96_row5_col8\" class=\"data row5 col8\" >-1.32%</td>\n",
              "                        <td id=\"T_27f96_row5_col9\" class=\"data row5 col9\" >-1.56%</td>\n",
              "            </tr>\n",
              "            <tr>\n",
              "                        <th id=\"T_27f96_level0_row6\" class=\"row_heading level0 row6\" >MEDIAN</th>\n",
              "                        <td id=\"T_27f96_row6_col0\" class=\"data row6 col0\" >1.12%</td>\n",
              "                        <td id=\"T_27f96_row6_col1\" class=\"data row6 col1\" >1.60%</td>\n",
              "                        <td id=\"T_27f96_row6_col2\" class=\"data row6 col2\" >1.48%</td>\n",
              "                        <td id=\"T_27f96_row6_col3\" class=\"data row6 col3\" >1.19%</td>\n",
              "                        <td id=\"T_27f96_row6_col4\" class=\"data row6 col4\" >0.44%</td>\n",
              "                        <td id=\"T_27f96_row6_col5\" class=\"data row6 col5\" >0.52%</td>\n",
              "                        <td id=\"T_27f96_row6_col6\" class=\"data row6 col6\" >-0.06%</td>\n",
              "                        <td id=\"T_27f96_row6_col7\" class=\"data row6 col7\" >-0.93%</td>\n",
              "                        <td id=\"T_27f96_row6_col8\" class=\"data row6 col8\" >-1.30%</td>\n",
              "                        <td id=\"T_27f96_row6_col9\" class=\"data row6 col9\" >-1.56%</td>\n",
              "            </tr>\n",
              "            <tr>\n",
              "                        <th id=\"T_27f96_level0_row7\" class=\"row_heading level0 row7\" >LQ45 3-DAY CHG</th>\n",
              "                        <td id=\"T_27f96_row7_col0\" class=\"data row7 col0\" >-</td>\n",
              "                        <td id=\"T_27f96_row7_col1\" class=\"data row7 col1\" >-</td>\n",
              "                        <td id=\"T_27f96_row7_col2\" class=\"data row7 col2\" >-</td>\n",
              "                        <td id=\"T_27f96_row7_col3\" class=\"data row7 col3\" >0.68%</td>\n",
              "                        <td id=\"T_27f96_row7_col4\" class=\"data row7 col4\" >1.53%</td>\n",
              "                        <td id=\"T_27f96_row7_col5\" class=\"data row7 col5\" >-2.96%</td>\n",
              "                        <td id=\"T_27f96_row7_col6\" class=\"data row7 col6\" >-0.60%</td>\n",
              "                        <td id=\"T_27f96_row7_col7\" class=\"data row7 col7\" >-0.09%</td>\n",
              "                        <td id=\"T_27f96_row7_col8\" class=\"data row7 col8\" >0.12%</td>\n",
              "                        <td id=\"T_27f96_row7_col9\" class=\"data row7 col9\" >-2.28%</td>\n",
              "            </tr>\n",
              "    </tbody></table>"
            ],
            "text/plain": [
              "<pandas.io.formats.style.Styler at 0x1ca8d512048>"
            ]
          },
          "metadata": {
            "tags": []
          },
          "execution_count": 506
        }
      ]
    },
    {
      "cell_type": "code",
      "metadata": {
        "scrolled": false,
        "id": "dCtth1f_KQrR",
        "outputId": "85d551ba-2c82-4346-fbe8-fb4ecb22d943"
      },
      "source": [
        "res = sv_date_prediction.pipe(determine_buy_sell_acc, 0.15, -0.20)\n",
        "res = sv_date_prediction.pipe(calc_rolling_acc)\n",
        "res = res.merge(df[['LQ45','target']], how='left', left_index=True, right_index=True).copy()\n",
        "res = res[:-1] # Remove last element because NaN\n",
        "\n",
        "test_returns = tm.simulate_position(res,0.15,-0.15, closing_price_name='LQ45',buy_fee=0.0025,sell_fee=0.003)#dp.generate_returns(res)\n",
        "sv_fig = plot_returns(test_returns, closing_price_name='LQ45', value_range=3, title='')\n",
        "sv_fig.savefig('sv_fig.png', bbox_inches='tight')"
      ],
      "execution_count": null,
      "outputs": [
        {
          "output_type": "display_data",
          "data": {
            "image/png": "[encoded data removed]",
            "text/plain": [
              "<Figure size 1152x864 with 5 Axes>"
            ]
          },
          "metadata": {
            "tags": []
          }
        }
      ]
    },
    {
      "cell_type": "code",
      "metadata": {
        "id": "BkgsjpqQKQrR"
      },
      "source": [
        "res['gauge_value'] = ((res['avg_pred']*10) + 10) /2"
      ],
      "execution_count": null,
      "outputs": []
    },
    {
      "cell_type": "code",
      "metadata": {
        "id": "oDSzgAiNKQrR",
        "outputId": "bf84a6d1-97f8-4489-bae5-4645c3f094ed"
      },
      "source": [
        "res[['sv_pred_0','sv_pred_1','sv_pred_2','sv_pred_3','sv_pred_4','avg_pred','median_pred','gauge_value','pred_position','actual_position']].tail(20)"
      ],
      "execution_count": null,
      "outputs": [
        {
          "output_type": "execute_result",
          "data": {
            "text/html": [
              "<div>\n",
              "<style scoped>\n",
              "    .dataframe tbody tr th:only-of-type {\n",
              "        vertical-align: middle;\n",
              "    }\n",
              "\n",
              "    .dataframe tbody tr th {\n",
              "        vertical-align: top;\n",
              "    }\n",
              "\n",
              "    .dataframe thead th {\n",
              "        text-align: right;\n",
              "    }\n",
              "</style>\n",
              "<table border=\"1\" class=\"dataframe\">\n",
              "  <thead>\n",
              "    <tr style=\"text-align: right;\">\n",
              "      <th></th>\n",
              "      <th>sv_pred_0</th>\n",
              "      <th>sv_pred_1</th>\n",
              "      <th>sv_pred_2</th>\n",
              "      <th>sv_pred_3</th>\n",
              "      <th>sv_pred_4</th>\n",
              "      <th>avg_pred</th>\n",
              "      <th>median_pred</th>\n",
              "      <th>gauge_value</th>\n",
              "      <th>pred_position</th>\n",
              "      <th>actual_position</th>\n",
              "    </tr>\n",
              "    <tr>\n",
              "      <th>date</th>\n",
              "      <th></th>\n",
              "      <th></th>\n",
              "      <th></th>\n",
              "      <th></th>\n",
              "      <th></th>\n",
              "      <th></th>\n",
              "      <th></th>\n",
              "      <th></th>\n",
              "      <th></th>\n",
              "      <th></th>\n",
              "    </tr>\n",
              "  </thead>\n",
              "  <tbody>\n",
              "    <tr>\n",
              "      <th>2021-04-05</th>\n",
              "      <td>-0.870098</td>\n",
              "      <td>-0.411014</td>\n",
              "      <td>-0.036362</td>\n",
              "      <td>0.296573</td>\n",
              "      <td>-0.674863</td>\n",
              "      <td>-0.339153</td>\n",
              "      <td>-0.375083</td>\n",
              "      <td>3.304237</td>\n",
              "      <td>SELL</td>\n",
              "      <td>SELL</td>\n",
              "    </tr>\n",
              "    <tr>\n",
              "      <th>2021-04-06</th>\n",
              "      <td>-0.778934</td>\n",
              "      <td>-0.529963</td>\n",
              "      <td>-0.396628</td>\n",
              "      <td>-0.087796</td>\n",
              "      <td>-0.867492</td>\n",
              "      <td>-0.532163</td>\n",
              "      <td>-0.531063</td>\n",
              "      <td>2.339187</td>\n",
              "      <td>SELL</td>\n",
              "      <td>BUY</td>\n",
              "    </tr>\n",
              "    <tr>\n",
              "      <th>2021-04-07</th>\n",
              "      <td>-0.751266</td>\n",
              "      <td>-0.672050</td>\n",
              "      <td>-0.636824</td>\n",
              "      <td>-0.370168</td>\n",
              "      <td>-0.951407</td>\n",
              "      <td>-0.676343</td>\n",
              "      <td>-0.674197</td>\n",
              "      <td>1.618285</td>\n",
              "      <td>SELL</td>\n",
              "      <td>BUY</td>\n",
              "    </tr>\n",
              "    <tr>\n",
              "      <th>2021-04-08</th>\n",
              "      <td>-0.746739</td>\n",
              "      <td>-0.597362</td>\n",
              "      <td>-0.762352</td>\n",
              "      <td>-0.486780</td>\n",
              "      <td>-0.976107</td>\n",
              "      <td>-0.713868</td>\n",
              "      <td>-0.730304</td>\n",
              "      <td>1.430660</td>\n",
              "      <td>SELL</td>\n",
              "      <td>BUY</td>\n",
              "    </tr>\n",
              "    <tr>\n",
              "      <th>2021-04-09</th>\n",
              "      <td>-0.867669</td>\n",
              "      <td>-0.608526</td>\n",
              "      <td>-0.843664</td>\n",
              "      <td>-0.612965</td>\n",
              "      <td>-0.986484</td>\n",
              "      <td>-0.783862</td>\n",
              "      <td>-0.813763</td>\n",
              "      <td>1.080691</td>\n",
              "      <td>SELL</td>\n",
              "      <td>SELL</td>\n",
              "    </tr>\n",
              "    <tr>\n",
              "      <th>2021-04-12</th>\n",
              "      <td>-0.923160</td>\n",
              "      <td>-0.626360</td>\n",
              "      <td>-0.861167</td>\n",
              "      <td>-0.674780</td>\n",
              "      <td>-0.990925</td>\n",
              "      <td>-0.815279</td>\n",
              "      <td>-0.838223</td>\n",
              "      <td>0.923607</td>\n",
              "      <td>SELL</td>\n",
              "      <td>SELL</td>\n",
              "    </tr>\n",
              "    <tr>\n",
              "      <th>2021-04-13</th>\n",
              "      <td>-0.944491</td>\n",
              "      <td>-0.710717</td>\n",
              "      <td>-0.829586</td>\n",
              "      <td>-0.694912</td>\n",
              "      <td>-0.990375</td>\n",
              "      <td>-0.834016</td>\n",
              "      <td>-0.831801</td>\n",
              "      <td>0.829920</td>\n",
              "      <td>SELL</td>\n",
              "      <td>HOLD</td>\n",
              "    </tr>\n",
              "    <tr>\n",
              "      <th>2021-04-14</th>\n",
              "      <td>-0.759089</td>\n",
              "      <td>-0.601000</td>\n",
              "      <td>-0.645587</td>\n",
              "      <td>-0.387192</td>\n",
              "      <td>-0.932996</td>\n",
              "      <td>-0.665173</td>\n",
              "      <td>-0.655380</td>\n",
              "      <td>1.674136</td>\n",
              "      <td>SELL</td>\n",
              "      <td>BUY</td>\n",
              "    </tr>\n",
              "    <tr>\n",
              "      <th>2021-04-15</th>\n",
              "      <td>-0.014833</td>\n",
              "      <td>-0.499441</td>\n",
              "      <td>-0.485674</td>\n",
              "      <td>0.264723</td>\n",
              "      <td>-0.842735</td>\n",
              "      <td>-0.315592</td>\n",
              "      <td>-0.400633</td>\n",
              "      <td>3.422040</td>\n",
              "      <td>SELL</td>\n",
              "      <td>BUY</td>\n",
              "    </tr>\n",
              "    <tr>\n",
              "      <th>2021-04-16</th>\n",
              "      <td>-0.600297</td>\n",
              "      <td>-0.346223</td>\n",
              "      <td>-0.803637</td>\n",
              "      <td>-0.547657</td>\n",
              "      <td>-0.962581</td>\n",
              "      <td>-0.652079</td>\n",
              "      <td>-0.626188</td>\n",
              "      <td>1.739605</td>\n",
              "      <td>SELL</td>\n",
              "      <td>HOLD</td>\n",
              "    </tr>\n",
              "    <tr>\n",
              "      <th>2021-04-19</th>\n",
              "      <td>-0.731967</td>\n",
              "      <td>-0.565353</td>\n",
              "      <td>-0.895029</td>\n",
              "      <td>-0.538085</td>\n",
              "      <td>-0.978774</td>\n",
              "      <td>-0.741841</td>\n",
              "      <td>-0.736904</td>\n",
              "      <td>1.290793</td>\n",
              "      <td>SELL</td>\n",
              "      <td>SELL</td>\n",
              "    </tr>\n",
              "    <tr>\n",
              "      <th>2021-04-20</th>\n",
              "      <td>-0.701077</td>\n",
              "      <td>-0.707301</td>\n",
              "      <td>-0.785754</td>\n",
              "      <td>-0.390454</td>\n",
              "      <td>-0.955022</td>\n",
              "      <td>-0.707922</td>\n",
              "      <td>-0.707611</td>\n",
              "      <td>1.460392</td>\n",
              "      <td>SELL</td>\n",
              "      <td>SELL</td>\n",
              "    </tr>\n",
              "    <tr>\n",
              "      <th>2021-04-21</th>\n",
              "      <td>-0.454813</td>\n",
              "      <td>-0.682119</td>\n",
              "      <td>-0.594792</td>\n",
              "      <td>-0.377297</td>\n",
              "      <td>-0.906255</td>\n",
              "      <td>-0.603055</td>\n",
              "      <td>-0.598924</td>\n",
              "      <td>1.984724</td>\n",
              "      <td>SELL</td>\n",
              "      <td>SELL</td>\n",
              "    </tr>\n",
              "    <tr>\n",
              "      <th>2021-04-22</th>\n",
              "      <td>0.307180</td>\n",
              "      <td>-0.440806</td>\n",
              "      <td>-0.433752</td>\n",
              "      <td>-0.121545</td>\n",
              "      <td>-0.715544</td>\n",
              "      <td>-0.280894</td>\n",
              "      <td>-0.357323</td>\n",
              "      <td>3.595532</td>\n",
              "      <td>SELL</td>\n",
              "      <td>HOLD</td>\n",
              "    </tr>\n",
              "    <tr>\n",
              "      <th>2021-04-23</th>\n",
              "      <td>0.721114</td>\n",
              "      <td>-0.054093</td>\n",
              "      <td>-0.157431</td>\n",
              "      <td>0.320942</td>\n",
              "      <td>-0.269255</td>\n",
              "      <td>0.112255</td>\n",
              "      <td>0.029081</td>\n",
              "      <td>5.561277</td>\n",
              "      <td>HOLD</td>\n",
              "      <td>HOLD</td>\n",
              "    </tr>\n",
              "    <tr>\n",
              "      <th>2021-04-26</th>\n",
              "      <td>0.797447</td>\n",
              "      <td>0.195058</td>\n",
              "      <td>0.021975</td>\n",
              "      <td>0.475193</td>\n",
              "      <td>-0.069877</td>\n",
              "      <td>0.283959</td>\n",
              "      <td>0.239509</td>\n",
              "      <td>6.419795</td>\n",
              "      <td>BUY</td>\n",
              "      <td>SELL</td>\n",
              "    </tr>\n",
              "    <tr>\n",
              "      <th>2021-04-27</th>\n",
              "      <td>0.743666</td>\n",
              "      <td>0.158755</td>\n",
              "      <td>0.025921</td>\n",
              "      <td>0.297039</td>\n",
              "      <td>-0.006889</td>\n",
              "      <td>0.243698</td>\n",
              "      <td>0.201227</td>\n",
              "      <td>6.218491</td>\n",
              "      <td>BUY</td>\n",
              "      <td>SELL</td>\n",
              "    </tr>\n",
              "    <tr>\n",
              "      <th>2021-04-28</th>\n",
              "      <td>0.903065</td>\n",
              "      <td>0.344462</td>\n",
              "      <td>0.317871</td>\n",
              "      <td>0.485475</td>\n",
              "      <td>0.751988</td>\n",
              "      <td>0.560572</td>\n",
              "      <td>0.523024</td>\n",
              "      <td>7.802861</td>\n",
              "      <td>BUY</td>\n",
              "      <td>BUY</td>\n",
              "    </tr>\n",
              "    <tr>\n",
              "      <th>2021-04-29</th>\n",
              "      <td>0.914024</td>\n",
              "      <td>0.539148</td>\n",
              "      <td>0.462468</td>\n",
              "      <td>0.612896</td>\n",
              "      <td>0.876515</td>\n",
              "      <td>0.681010</td>\n",
              "      <td>0.646953</td>\n",
              "      <td>8.405051</td>\n",
              "      <td>BUY</td>\n",
              "      <td>BUY</td>\n",
              "    </tr>\n",
              "    <tr>\n",
              "      <th>2021-04-30</th>\n",
              "      <td>0.846172</td>\n",
              "      <td>0.577108</td>\n",
              "      <td>0.429328</td>\n",
              "      <td>0.661529</td>\n",
              "      <td>0.887295</td>\n",
              "      <td>0.680286</td>\n",
              "      <td>0.670907</td>\n",
              "      <td>8.401432</td>\n",
              "      <td>BUY</td>\n",
              "      <td>HOLD</td>\n",
              "    </tr>\n",
              "  </tbody>\n",
              "</table>\n",
              "</div>"
            ],
            "text/plain": [
              "            sv_pred_0  sv_pred_1  sv_pred_2  sv_pred_3  sv_pred_4  avg_pred  \\\n",
              "date                                                                          \n",
              "2021-04-05  -0.870098  -0.411014  -0.036362   0.296573  -0.674863 -0.339153   \n",
              "2021-04-06  -0.778934  -0.529963  -0.396628  -0.087796  -0.867492 -0.532163   \n",
              "2021-04-07  -0.751266  -0.672050  -0.636824  -0.370168  -0.951407 -0.676343   \n",
              "2021-04-08  -0.746739  -0.597362  -0.762352  -0.486780  -0.976107 -0.713868   \n",
              "2021-04-09  -0.867669  -0.608526  -0.843664  -0.612965  -0.986484 -0.783862   \n",
              "2021-04-12  -0.923160  -0.626360  -0.861167  -0.674780  -0.990925 -0.815279   \n",
              "2021-04-13  -0.944491  -0.710717  -0.829586  -0.694912  -0.990375 -0.834016   \n",
              "2021-04-14  -0.759089  -0.601000  -0.645587  -0.387192  -0.932996 -0.665173   \n",
              "2021-04-15  -0.014833  -0.499441  -0.485674   0.264723  -0.842735 -0.315592   \n",
              "2021-04-16  -0.600297  -0.346223  -0.803637  -0.547657  -0.962581 -0.652079   \n",
              "2021-04-19  -0.731967  -0.565353  -0.895029  -0.538085  -0.978774 -0.741841   \n",
              "2021-04-20  -0.701077  -0.707301  -0.785754  -0.390454  -0.955022 -0.707922   \n",
              "2021-04-21  -0.454813  -0.682119  -0.594792  -0.377297  -0.906255 -0.603055   \n",
              "2021-04-22   0.307180  -0.440806  -0.433752  -0.121545  -0.715544 -0.280894   \n",
              "2021-04-23   0.721114  -0.054093  -0.157431   0.320942  -0.269255  0.112255   \n",
              "2021-04-26   0.797447   0.195058   0.021975   0.475193  -0.069877  0.283959   \n",
              "2021-04-27   0.743666   0.158755   0.025921   0.297039  -0.006889  0.243698   \n",
              "2021-04-28   0.903065   0.344462   0.317871   0.485475   0.751988  0.560572   \n",
              "2021-04-29   0.914024   0.539148   0.462468   0.612896   0.876515  0.681010   \n",
              "2021-04-30   0.846172   0.577108   0.429328   0.661529   0.887295  0.680286   \n",
              "\n",
              "            median_pred  gauge_value pred_position actual_position  \n",
              "date                                                                \n",
              "2021-04-05    -0.375083     3.304237          SELL            SELL  \n",
              "2021-04-06    -0.531063     2.339187          SELL             BUY  \n",
              "2021-04-07    -0.674197     1.618285          SELL             BUY  \n",
              "2021-04-08    -0.730304     1.430660          SELL             BUY  \n",
              "2021-04-09    -0.813763     1.080691          SELL            SELL  \n",
              "2021-04-12    -0.838223     0.923607          SELL            SELL  \n",
              "2021-04-13    -0.831801     0.829920          SELL            HOLD  \n",
              "2021-04-14    -0.655380     1.674136          SELL             BUY  \n",
              "2021-04-15    -0.400633     3.422040          SELL             BUY  \n",
              "2021-04-16    -0.626188     1.739605          SELL            HOLD  \n",
              "2021-04-19    -0.736904     1.290793          SELL            SELL  \n",
              "2021-04-20    -0.707611     1.460392          SELL            SELL  \n",
              "2021-04-21    -0.598924     1.984724          SELL            SELL  \n",
              "2021-04-22    -0.357323     3.595532          SELL            HOLD  \n",
              "2021-04-23     0.029081     5.561277          HOLD            HOLD  \n",
              "2021-04-26     0.239509     6.419795           BUY            SELL  \n",
              "2021-04-27     0.201227     6.218491           BUY            SELL  \n",
              "2021-04-28     0.523024     7.802861           BUY             BUY  \n",
              "2021-04-29     0.646953     8.405051           BUY             BUY  \n",
              "2021-04-30     0.670907     8.401432           BUY            HOLD  "
            ]
          },
          "metadata": {
            "tags": []
          },
          "execution_count": 509
        }
      ]
    },
    {
      "cell_type": "code",
      "metadata": {
        "id": "ErqKWXW1KQrS",
        "outputId": "ba811b1e-a640-4d09-c25c-847d604883bd"
      },
      "source": [
        "plot_gauge(res.avg_pred[-1])"
      ],
      "execution_count": null,
      "outputs": [
        {
          "output_type": "display_data",
          "data": {
            "application/vnd.plotly.v1+json": {
              "config": {
                "plotlyServerURL": "https://plot.ly"
              },
              "data": [
                {
                  "domain": {
                    "x": [
                      0,
                      1
                    ],
                    "y": [
                      0,
                      1
                    ]
                  },
                  "gauge": {
                    "axis": {
                      "range": [
                        0,
                        10
                      ]
                    },
                    "bar": {
                      "color": "green"
                    },
                    "steps": [
                      {
                        "color": "white",
                        "range": [
                          0,
                          4
                        ]
                      },
                      {
                        "color": "lightgray",
                        "range": [
                          4,
                          6
                        ]
                      },
                      {
                        "color": "gray",
                        "range": [
                          6,
                          10
                        ]
                      }
                    ],
                    "threshold": {
                      "line": {
                        "color": "red",
                        "width": 4
                      },
                      "thickness": 0.9,
                      "value": 8.401431441307068
                    }
                  },
                  "mode": "gauge+number",
                  "title": {
                    "text": "Recommendation : <span style='font-size:1.2em;font-weight: bold;color:green'>Buy</span>"
                  },
                  "type": "indicator",
                  "value": 8.401431441307068
                }
              ],
              "layout": {
                "template": {
                  "data": {
                    "bar": [
                      {
                        "error_x": {
                          "color": "#2a3f5f"
                        },
                        "error_y": {
                          "color": "#2a3f5f"
                        },
                        "marker": {
                          "line": {
                            "color": "#E5ECF6",
                            "width": 0.5
                          }
                        },
                        "type": "bar"
                      }
                    ],
                    "barpolar": [
                      {
                        "marker": {
                          "line": {
                            "color": "#E5ECF6",
                            "width": 0.5
                          }
                        },
                        "type": "barpolar"
                      }
                    ],
                    "carpet": [
                      {
                        "aaxis": {
                          "endlinecolor": "#2a3f5f",
                          "gridcolor": "white",
                          "linecolor": "white",
                          "minorgridcolor": "white",
                          "startlinecolor": "#2a3f5f"
                        },
                        "baxis": {
                          "endlinecolor": "#2a3f5f",
                          "gridcolor": "white",
                          "linecolor": "white",
                          "minorgridcolor": "white",
                          "startlinecolor": "#2a3f5f"
                        },
                        "type": "carpet"
                      }
                    ],
                    "choropleth": [
                      {
                        "colorbar": {
                          "outlinewidth": 0,
                          "ticks": ""
                        },
                        "type": "choropleth"
                      }
                    ],
                    "contour": [
                      {
                        "colorbar": {
                          "outlinewidth": 0,
                          "ticks": ""
                        },
                        "colorscale": [
                          [
                            0,
                            "#0d0887"
                          ],
                          [
                            0.1111111111111111,
                            "#46039f"
                          ],
                          [
                            0.2222222222222222,
                            "#7201a8"
                          ],
                          [
                            0.3333333333333333,
                            "#9c179e"
                          ],
                          [
                            0.4444444444444444,
                            "#bd3786"
                          ],
                          [
                            0.5555555555555556,
                            "#d8576b"
                          ],
                          [
                            0.6666666666666666,
                            "#ed7953"
                          ],
                          [
                            0.7777777777777778,
                            "#fb9f3a"
                          ],
                          [
                            0.8888888888888888,
                            "#fdca26"
                          ],
                          [
                            1,
                            "#f0f921"
                          ]
                        ],
                        "type": "contour"
                      }
                    ],
                    "contourcarpet": [
                      {
                        "colorbar": {
                          "outlinewidth": 0,
                          "ticks": ""
                        },
                        "type": "contourcarpet"
                      }
                    ],
                    "heatmap": [
                      {
                        "colorbar": {
                          "outlinewidth": 0,
                          "ticks": ""
                        },
                        "colorscale": [
                          [
                            0,
                            "#0d0887"
                          ],
                          [
                            0.1111111111111111,
                            "#46039f"
                          ],
                          [
                            0.2222222222222222,
                            "#7201a8"
                          ],
                          [
                            0.3333333333333333,
                            "#9c179e"
                          ],
                          [
                            0.4444444444444444,
                            "#bd3786"
                          ],
                          [
                            0.5555555555555556,
                            "#d8576b"
                          ],
                          [
                            0.6666666666666666,
                            "#ed7953"
                          ],
                          [
                            0.7777777777777778,
                            "#fb9f3a"
                          ],
                          [
                            0.8888888888888888,
                            "#fdca26"
                          ],
                          [
                            1,
                            "#f0f921"
                          ]
                        ],
                        "type": "heatmap"
                      }
                    ],
                    "heatmapgl": [
                      {
                        "colorbar": {
                          "outlinewidth": 0,
                          "ticks": ""
                        },
                        "colorscale": [
                          [
                            0,
                            "#0d0887"
                          ],
                          [
                            0.1111111111111111,
                            "#46039f"
                          ],
                          [
                            0.2222222222222222,
                            "#7201a8"
                          ],
                          [
                            0.3333333333333333,
                            "#9c179e"
                          ],
                          [
                            0.4444444444444444,
                            "#bd3786"
                          ],
                          [
                            0.5555555555555556,
                            "#d8576b"
                          ],
                          [
                            0.6666666666666666,
                            "#ed7953"
                          ],
                          [
                            0.7777777777777778,
                            "#fb9f3a"
                          ],
                          [
                            0.8888888888888888,
                            "#fdca26"
                          ],
                          [
                            1,
                            "#f0f921"
                          ]
                        ],
                        "type": "heatmapgl"
                      }
                    ],
                    "histogram": [
                      {
                        "marker": {
                          "colorbar": {
                            "outlinewidth": 0,
                            "ticks": ""
                          }
                        },
                        "type": "histogram"
                      }
                    ],
                    "histogram2d": [
                      {
                        "colorbar": {
                          "outlinewidth": 0,
                          "ticks": ""
                        },
                        "colorscale": [
                          [
                            0,
                            "#0d0887"
                          ],
                          [
                            0.1111111111111111,
                            "#46039f"
                          ],
                          [
                            0.2222222222222222,
                            "#7201a8"
                          ],
                          [
                            0.3333333333333333,
                            "#9c179e"
                          ],
                          [
                            0.4444444444444444,
                            "#bd3786"
                          ],
                          [
                            0.5555555555555556,
                            "#d8576b"
                          ],
                          [
                            0.6666666666666666,
                            "#ed7953"
                          ],
                          [
                            0.7777777777777778,
                            "#fb9f3a"
                          ],
                          [
                            0.8888888888888888,
                            "#fdca26"
                          ],
                          [
                            1,
                            "#f0f921"
                          ]
                        ],
                        "type": "histogram2d"
                      }
                    ],
                    "histogram2dcontour": [
                      {
                        "colorbar": {
                          "outlinewidth": 0,
                          "ticks": ""
                        },
                        "colorscale": [
                          [
                            0,
                            "#0d0887"
                          ],
                          [
                            0.1111111111111111,
                            "#46039f"
                          ],
                          [
                            0.2222222222222222,
                            "#7201a8"
                          ],
                          [
                            0.3333333333333333,
                            "#9c179e"
                          ],
                          [
                            0.4444444444444444,
                            "#bd3786"
                          ],
                          [
                            0.5555555555555556,
                            "#d8576b"
                          ],
                          [
                            0.6666666666666666,
                            "#ed7953"
                          ],
                          [
                            0.7777777777777778,
                            "#fb9f3a"
                          ],
                          [
                            0.8888888888888888,
                            "#fdca26"
                          ],
                          [
                            1,
                            "#f0f921"
                          ]
                        ],
                        "type": "histogram2dcontour"
                      }
                    ],
                    "mesh3d": [
                      {
                        "colorbar": {
                          "outlinewidth": 0,
                          "ticks": ""
                        },
                        "type": "mesh3d"
                      }
                    ],
                    "parcoords": [
                      {
                        "line": {
                          "colorbar": {
                            "outlinewidth": 0,
                            "ticks": ""
                          }
                        },
                        "type": "parcoords"
                      }
                    ],
                    "pie": [
                      {
                        "automargin": true,
                        "type": "pie"
                      }
                    ],
                    "scatter": [
                      {
                        "marker": {
                          "colorbar": {
                            "outlinewidth": 0,
                            "ticks": ""
                          }
                        },
                        "type": "scatter"
                      }
                    ],
                    "scatter3d": [
                      {
                        "line": {
                          "colorbar": {
                            "outlinewidth": 0,
                            "ticks": ""
                          }
                        },
                        "marker": {
                          "colorbar": {
                            "outlinewidth": 0,
                            "ticks": ""
                          }
                        },
                        "type": "scatter3d"
                      }
                    ],
                    "scattercarpet": [
                      {
                        "marker": {
                          "colorbar": {
                            "outlinewidth": 0,
                            "ticks": ""
                          }
                        },
                        "type": "scattercarpet"
                      }
                    ],
                    "scattergeo": [
                      {
                        "marker": {
                          "colorbar": {
                            "outlinewidth": 0,
                            "ticks": ""
                          }
                        },
                        "type": "scattergeo"
                      }
                    ],
                    "scattergl": [
                      {
                        "marker": {
                          "colorbar": {
                            "outlinewidth": 0,
                            "ticks": ""
                          }
                        },
                        "type": "scattergl"
                      }
                    ],
                    "scattermapbox": [
                      {
                        "marker": {
                          "colorbar": {
                            "outlinewidth": 0,
                            "ticks": ""
                          }
                        },
                        "type": "scattermapbox"
                      }
                    ],
                    "scatterpolar": [
                      {
                        "marker": {
                          "colorbar": {
                            "outlinewidth": 0,
                            "ticks": ""
                          }
                        },
                        "type": "scatterpolar"
                      }
                    ],
                    "scatterpolargl": [
                      {
                        "marker": {
                          "colorbar": {
                            "outlinewidth": 0,
                            "ticks": ""
                          }
                        },
                        "type": "scatterpolargl"
                      }
                    ],
                    "scatterternary": [
                      {
                        "marker": {
                          "colorbar": {
                            "outlinewidth": 0,
                            "ticks": ""
                          }
                        },
                        "type": "scatterternary"
                      }
                    ],
                    "surface": [
                      {
                        "colorbar": {
                          "outlinewidth": 0,
                          "ticks": ""
                        },
                        "colorscale": [
                          [
                            0,
                            "#0d0887"
                          ],
                          [
                            0.1111111111111111,
                            "#46039f"
                          ],
                          [
                            0.2222222222222222,
                            "#7201a8"
                          ],
                          [
                            0.3333333333333333,
                            "#9c179e"
                          ],
                          [
                            0.4444444444444444,
                            "#bd3786"
                          ],
                          [
                            0.5555555555555556,
                            "#d8576b"
                          ],
                          [
                            0.6666666666666666,
                            "#ed7953"
                          ],
                          [
                            0.7777777777777778,
                            "#fb9f3a"
                          ],
                          [
                            0.8888888888888888,
                            "#fdca26"
                          ],
                          [
                            1,
                            "#f0f921"
                          ]
                        ],
                        "type": "surface"
                      }
                    ],
                    "table": [
                      {
                        "cells": {
                          "fill": {
                            "color": "#EBF0F8"
                          },
                          "line": {
                            "color": "white"
                          }
                        },
                        "header": {
                          "fill": {
                            "color": "#C8D4E3"
                          },
                          "line": {
                            "color": "white"
                          }
                        },
                        "type": "table"
                      }
                    ]
                  },
                  "layout": {
                    "annotationdefaults": {
                      "arrowcolor": "#2a3f5f",
                      "arrowhead": 0,
                      "arrowwidth": 1
                    },
                    "autotypenumbers": "strict",
                    "coloraxis": {
                      "colorbar": {
                        "outlinewidth": 0,
                        "ticks": ""
                      }
                    },
                    "colorscale": {
                      "diverging": [
                        [
                          0,
                          "#8e0152"
                        ],
                        [
                          0.1,
                          "#c51b7d"
                        ],
                        [
                          0.2,
                          "#de77ae"
                        ],
                        [
                          0.3,
                          "#f1b6da"
                        ],
                        [
                          0.4,
                          "#fde0ef"
                        ],
                        [
                          0.5,
                          "#f7f7f7"
                        ],
                        [
                          0.6,
                          "#e6f5d0"
                        ],
                        [
                          0.7,
                          "#b8e186"
                        ],
                        [
                          0.8,
                          "#7fbc41"
                        ],
                        [
                          0.9,
                          "#4d9221"
                        ],
                        [
                          1,
                          "#276419"
                        ]
                      ],
                      "sequential": [
                        [
                          0,
                          "#0d0887"
                        ],
                        [
                          0.1111111111111111,
                          "#46039f"
                        ],
                        [
                          0.2222222222222222,
                          "#7201a8"
                        ],
                        [
                          0.3333333333333333,
                          "#9c179e"
                        ],
                        [
                          0.4444444444444444,
                          "#bd3786"
                        ],
                        [
                          0.5555555555555556,
                          "#d8576b"
                        ],
                        [
                          0.6666666666666666,
                          "#ed7953"
                        ],
                        [
                          0.7777777777777778,
                          "#fb9f3a"
                        ],
                        [
                          0.8888888888888888,
                          "#fdca26"
                        ],
                        [
                          1,
                          "#f0f921"
                        ]
                      ],
                      "sequentialminus": [
                        [
                          0,
                          "#0d0887"
                        ],
                        [
                          0.1111111111111111,
                          "#46039f"
                        ],
                        [
                          0.2222222222222222,
                          "#7201a8"
                        ],
                        [
                          0.3333333333333333,
                          "#9c179e"
                        ],
                        [
                          0.4444444444444444,
                          "#bd3786"
                        ],
                        [
                          0.5555555555555556,
                          "#d8576b"
                        ],
                        [
                          0.6666666666666666,
                          "#ed7953"
                        ],
                        [
                          0.7777777777777778,
                          "#fb9f3a"
                        ],
                        [
                          0.8888888888888888,
                          "#fdca26"
                        ],
                        [
                          1,
                          "#f0f921"
                        ]
                      ]
                    },
                    "colorway": [
                      "#636efa",
                      "#EF553B",
                      "#00cc96",
                      "#ab63fa",
                      "#FFA15A",
                      "#19d3f3",
                      "#FF6692",
                      "#B6E880",
                      "#FF97FF",
                      "#FECB52"
                    ],
                    "font": {
                      "color": "#2a3f5f"
                    },
                    "geo": {
                      "bgcolor": "white",
                      "lakecolor": "white",
                      "landcolor": "#E5ECF6",
                      "showlakes": true,
                      "showland": true,
                      "subunitcolor": "white"
                    },
                    "hoverlabel": {
                      "align": "left"
                    },
                    "hovermode": "closest",
                    "mapbox": {
                      "style": "light"
                    },
                    "paper_bgcolor": "white",
                    "plot_bgcolor": "#E5ECF6",
                    "polar": {
                      "angularaxis": {
                        "gridcolor": "white",
                        "linecolor": "white",
                        "ticks": ""
                      },
                      "bgcolor": "#E5ECF6",
                      "radialaxis": {
                        "gridcolor": "white",
                        "linecolor": "white",
                        "ticks": ""
                      }
                    },
                    "scene": {
                      "xaxis": {
                        "backgroundcolor": "#E5ECF6",
                        "gridcolor": "white",
                        "gridwidth": 2,
                        "linecolor": "white",
                        "showbackground": true,
                        "ticks": "",
                        "zerolinecolor": "white"
                      },
                      "yaxis": {
                        "backgroundcolor": "#E5ECF6",
                        "gridcolor": "white",
                        "gridwidth": 2,
                        "linecolor": "white",
                        "showbackground": true,
                        "ticks": "",
                        "zerolinecolor": "white"
                      },
                      "zaxis": {
                        "backgroundcolor": "#E5ECF6",
                        "gridcolor": "white",
                        "gridwidth": 2,
                        "linecolor": "white",
                        "showbackground": true,
                        "ticks": "",
                        "zerolinecolor": "white"
                      }
                    },
                    "shapedefaults": {
                      "line": {
                        "color": "#2a3f5f"
                      }
                    },
                    "ternary": {
                      "aaxis": {
                        "gridcolor": "white",
                        "linecolor": "white",
                        "ticks": ""
                      },
                      "baxis": {
                        "gridcolor": "white",
                        "linecolor": "white",
                        "ticks": ""
                      },
                      "bgcolor": "#E5ECF6",
                      "caxis": {
                        "gridcolor": "white",
                        "linecolor": "white",
                        "ticks": ""
                      }
                    },
                    "title": {
                      "x": 0.05
                    },
                    "xaxis": {
                      "automargin": true,
                      "gridcolor": "white",
                      "linecolor": "white",
                      "ticks": "",
                      "title": {
                        "standoff": 15
                      },
                      "zerolinecolor": "white",
                      "zerolinewidth": 2
                    },
                    "yaxis": {
                      "automargin": true,
                      "gridcolor": "white",
                      "linecolor": "white",
                      "ticks": "",
                      "title": {
                        "standoff": 15
                      },
                      "zerolinecolor": "white",
                      "zerolinewidth": 2
                    }
                  }
                }
              }
            },
            "text/html": [
              "<div>                            <div id=\"007db127-e831-4234-8077-679b995ef828\" class=\"plotly-graph-div\" style=\"height:525px; width:100%;\"></div>            <script type=\"text/javascript\">                require([\"plotly\"], function(Plotly) {                    window.PLOTLYENV=window.PLOTLYENV || {};                                    if (document.getElementById(\"007db127-e831-4234-8077-679b995ef828\")) {                    Plotly.newPlot(                        \"007db127-e831-4234-8077-679b995ef828\",                        [{\"domain\": {\"x\": [0, 1], \"y\": [0, 1]}, \"gauge\": {\"axis\": {\"range\": [0, 10]}, \"bar\": {\"color\": \"green\"}, \"steps\": [{\"color\": \"white\", \"range\": [0, 4]}, {\"color\": \"lightgray\", \"range\": [4, 6]}, {\"color\": \"gray\", \"range\": [6, 10]}], \"threshold\": {\"line\": {\"color\": \"red\", \"width\": 4}, \"thickness\": 0.9, \"value\": 8.401431441307068}}, \"mode\": \"gauge+number\", \"title\": {\"text\": \"Recommendation : <span style='font-size:1.2em;font-weight: bold;color:green'>Buy</span>\"}, \"type\": \"indicator\", \"value\": 8.401431441307068}],                        {\"template\": {\"data\": {\"bar\": [{\"error_x\": {\"color\": \"#2a3f5f\"}, \"error_y\": {\"color\": \"#2a3f5f\"}, \"marker\": {\"line\": {\"color\": \"#E5ECF6\", \"width\": 0.5}}, \"type\": \"bar\"}], \"barpolar\": [{\"marker\": {\"line\": {\"color\": \"#E5ECF6\", \"width\": 0.5}}, \"type\": \"barpolar\"}], \"carpet\": [{\"aaxis\": {\"endlinecolor\": \"#2a3f5f\", \"gridcolor\": \"white\", \"linecolor\": \"white\", \"minorgridcolor\": \"white\", \"startlinecolor\": \"#2a3f5f\"}, \"baxis\": {\"endlinecolor\": \"#2a3f5f\", \"gridcolor\": \"white\", \"linecolor\": \"white\", \"minorgridcolor\": \"white\", \"startlinecolor\": \"#2a3f5f\"}, \"type\": \"carpet\"}], \"choropleth\": [{\"colorbar\": {\"outlinewidth\": 0, \"ticks\": \"\"}, \"type\": \"choropleth\"}], \"contour\": [{\"colorbar\": {\"outlinewidth\": 0, \"ticks\": \"\"}, \"colorscale\": [[0.0, \"#0d0887\"], [0.1111111111111111, \"#46039f\"], [0.2222222222222222, \"#7201a8\"], [0.3333333333333333, \"#9c179e\"], [0.4444444444444444, \"#bd3786\"], [0.5555555555555556, \"#d8576b\"], [0.6666666666666666, \"#ed7953\"], [0.7777777777777778, \"#fb9f3a\"], [0.8888888888888888, \"#fdca26\"], [1.0, \"#f0f921\"]], \"type\": \"contour\"}], \"contourcarpet\": [{\"colorbar\": {\"outlinewidth\": 0, \"ticks\": \"\"}, \"type\": \"contourcarpet\"}], \"heatmap\": [{\"colorbar\": {\"outlinewidth\": 0, \"ticks\": \"\"}, \"colorscale\": [[0.0, \"#0d0887\"], [0.1111111111111111, \"#46039f\"], [0.2222222222222222, \"#7201a8\"], [0.3333333333333333, \"#9c179e\"], [0.4444444444444444, \"#bd3786\"], [0.5555555555555556, \"#d8576b\"], [0.6666666666666666, \"#ed7953\"], [0.7777777777777778, \"#fb9f3a\"], [0.8888888888888888, \"#fdca26\"], [1.0, \"#f0f921\"]], \"type\": \"heatmap\"}], \"heatmapgl\": [{\"colorbar\": {\"outlinewidth\": 0, \"ticks\": \"\"}, \"colorscale\": [[0.0, \"#0d0887\"], [0.1111111111111111, \"#46039f\"], [0.2222222222222222, \"#7201a8\"], [0.3333333333333333, \"#9c179e\"], [0.4444444444444444, \"#bd3786\"], [0.5555555555555556, \"#d8576b\"], [0.6666666666666666, \"#ed7953\"], [0.7777777777777778, \"#fb9f3a\"], [0.8888888888888888, \"#fdca26\"], [1.0, \"#f0f921\"]], \"type\": \"heatmapgl\"}], \"histogram\": [{\"marker\": {\"colorbar\": {\"outlinewidth\": 0, \"ticks\": \"\"}}, \"type\": \"histogram\"}], \"histogram2d\": [{\"colorbar\": {\"outlinewidth\": 0, \"ticks\": \"\"}, \"colorscale\": [[0.0, \"#0d0887\"], [0.1111111111111111, \"#46039f\"], [0.2222222222222222, \"#7201a8\"], [0.3333333333333333, \"#9c179e\"], [0.4444444444444444, \"#bd3786\"], [0.5555555555555556, \"#d8576b\"], [0.6666666666666666, \"#ed7953\"], [0.7777777777777778, \"#fb9f3a\"], [0.8888888888888888, \"#fdca26\"], [1.0, \"#f0f921\"]], \"type\": \"histogram2d\"}], \"histogram2dcontour\": [{\"colorbar\": {\"outlinewidth\": 0, \"ticks\": \"\"}, \"colorscale\": [[0.0, \"#0d0887\"], [0.1111111111111111, \"#46039f\"], [0.2222222222222222, \"#7201a8\"], [0.3333333333333333, \"#9c179e\"], [0.4444444444444444, \"#bd3786\"], [0.5555555555555556, \"#d8576b\"], [0.6666666666666666, \"#ed7953\"], [0.7777777777777778, \"#fb9f3a\"], [0.8888888888888888, \"#fdca26\"], [1.0, \"#f0f921\"]], \"type\": \"histogram2dcontour\"}], \"mesh3d\": [{\"colorbar\": {\"outlinewidth\": 0, \"ticks\": \"\"}, \"type\": \"mesh3d\"}], \"parcoords\": [{\"line\": {\"colorbar\": {\"outlinewidth\": 0, \"ticks\": \"\"}}, \"type\": \"parcoords\"}], \"pie\": [{\"automargin\": true, \"type\": \"pie\"}], \"scatter\": [{\"marker\": {\"colorbar\": {\"outlinewidth\": 0, \"ticks\": \"\"}}, \"type\": \"scatter\"}], \"scatter3d\": [{\"line\": {\"colorbar\": {\"outlinewidth\": 0, \"ticks\": \"\"}}, \"marker\": {\"colorbar\": {\"outlinewidth\": 0, \"ticks\": \"\"}}, \"type\": \"scatter3d\"}], \"scattercarpet\": [{\"marker\": {\"colorbar\": {\"outlinewidth\": 0, \"ticks\": \"\"}}, \"type\": \"scattercarpet\"}], \"scattergeo\": [{\"marker\": {\"colorbar\": {\"outlinewidth\": 0, \"ticks\": \"\"}}, \"type\": \"scattergeo\"}], \"scattergl\": [{\"marker\": {\"colorbar\": {\"outlinewidth\": 0, \"ticks\": \"\"}}, \"type\": \"scattergl\"}], \"scattermapbox\": [{\"marker\": {\"colorbar\": {\"outlinewidth\": 0, \"ticks\": \"\"}}, \"type\": \"scattermapbox\"}], \"scatterpolar\": [{\"marker\": {\"colorbar\": {\"outlinewidth\": 0, \"ticks\": \"\"}}, \"type\": \"scatterpolar\"}], \"scatterpolargl\": [{\"marker\": {\"colorbar\": {\"outlinewidth\": 0, \"ticks\": \"\"}}, \"type\": \"scatterpolargl\"}], \"scatterternary\": [{\"marker\": {\"colorbar\": {\"outlinewidth\": 0, \"ticks\": \"\"}}, \"type\": \"scatterternary\"}], \"surface\": [{\"colorbar\": {\"outlinewidth\": 0, \"ticks\": \"\"}, \"colorscale\": [[0.0, \"#0d0887\"], [0.1111111111111111, \"#46039f\"], [0.2222222222222222, \"#7201a8\"], [0.3333333333333333, \"#9c179e\"], [0.4444444444444444, \"#bd3786\"], [0.5555555555555556, \"#d8576b\"], [0.6666666666666666, \"#ed7953\"], [0.7777777777777778, \"#fb9f3a\"], [0.8888888888888888, \"#fdca26\"], [1.0, \"#f0f921\"]], \"type\": \"surface\"}], \"table\": [{\"cells\": {\"fill\": {\"color\": \"#EBF0F8\"}, \"line\": {\"color\": \"white\"}}, \"header\": {\"fill\": {\"color\": \"#C8D4E3\"}, \"line\": {\"color\": \"white\"}}, \"type\": \"table\"}]}, \"layout\": {\"annotationdefaults\": {\"arrowcolor\": \"#2a3f5f\", \"arrowhead\": 0, \"arrowwidth\": 1}, \"autotypenumbers\": \"strict\", \"coloraxis\": {\"colorbar\": {\"outlinewidth\": 0, \"ticks\": \"\"}}, \"colorscale\": {\"diverging\": [[0, \"#8e0152\"], [0.1, \"#c51b7d\"], [0.2, \"#de77ae\"], [0.3, \"#f1b6da\"], [0.4, \"#fde0ef\"], [0.5, \"#f7f7f7\"], [0.6, \"#e6f5d0\"], [0.7, \"#b8e186\"], [0.8, \"#7fbc41\"], [0.9, \"#4d9221\"], [1, \"#276419\"]], \"sequential\": [[0.0, \"#0d0887\"], [0.1111111111111111, \"#46039f\"], [0.2222222222222222, \"#7201a8\"], [0.3333333333333333, \"#9c179e\"], [0.4444444444444444, \"#bd3786\"], [0.5555555555555556, \"#d8576b\"], [0.6666666666666666, \"#ed7953\"], [0.7777777777777778, \"#fb9f3a\"], [0.8888888888888888, \"#fdca26\"], [1.0, \"#f0f921\"]], \"sequentialminus\": [[0.0, \"#0d0887\"], [0.1111111111111111, \"#46039f\"], [0.2222222222222222, \"#7201a8\"], [0.3333333333333333, \"#9c179e\"], [0.4444444444444444, \"#bd3786\"], [0.5555555555555556, \"#d8576b\"], [0.6666666666666666, \"#ed7953\"], [0.7777777777777778, \"#fb9f3a\"], [0.8888888888888888, \"#fdca26\"], [1.0, \"#f0f921\"]]}, \"colorway\": [\"#636efa\", \"#EF553B\", \"#00cc96\", \"#ab63fa\", \"#FFA15A\", \"#19d3f3\", \"#FF6692\", \"#B6E880\", \"#FF97FF\", \"#FECB52\"], \"font\": {\"color\": \"#2a3f5f\"}, \"geo\": {\"bgcolor\": \"white\", \"lakecolor\": \"white\", \"landcolor\": \"#E5ECF6\", \"showlakes\": true, \"showland\": true, \"subunitcolor\": \"white\"}, \"hoverlabel\": {\"align\": \"left\"}, \"hovermode\": \"closest\", \"mapbox\": {\"style\": \"light\"}, \"paper_bgcolor\": \"white\", \"plot_bgcolor\": \"#E5ECF6\", \"polar\": {\"angularaxis\": {\"gridcolor\": \"white\", \"linecolor\": \"white\", \"ticks\": \"\"}, \"bgcolor\": \"#E5ECF6\", \"radialaxis\": {\"gridcolor\": \"white\", \"linecolor\": \"white\", \"ticks\": \"\"}}, \"scene\": {\"xaxis\": {\"backgroundcolor\": \"#E5ECF6\", \"gridcolor\": \"white\", \"gridwidth\": 2, \"linecolor\": \"white\", \"showbackground\": true, \"ticks\": \"\", \"zerolinecolor\": \"white\"}, \"yaxis\": {\"backgroundcolor\": \"#E5ECF6\", \"gridcolor\": \"white\", \"gridwidth\": 2, \"linecolor\": \"white\", \"showbackground\": true, \"ticks\": \"\", \"zerolinecolor\": \"white\"}, \"zaxis\": {\"backgroundcolor\": \"#E5ECF6\", \"gridcolor\": \"white\", \"gridwidth\": 2, \"linecolor\": \"white\", \"showbackground\": true, \"ticks\": \"\", \"zerolinecolor\": \"white\"}}, \"shapedefaults\": {\"line\": {\"color\": \"#2a3f5f\"}}, \"ternary\": {\"aaxis\": {\"gridcolor\": \"white\", \"linecolor\": \"white\", \"ticks\": \"\"}, \"baxis\": {\"gridcolor\": \"white\", \"linecolor\": \"white\", \"ticks\": \"\"}, \"bgcolor\": \"#E5ECF6\", \"caxis\": {\"gridcolor\": \"white\", \"linecolor\": \"white\", \"ticks\": \"\"}}, \"title\": {\"x\": 0.05}, \"xaxis\": {\"automargin\": true, \"gridcolor\": \"white\", \"linecolor\": \"white\", \"ticks\": \"\", \"title\": {\"standoff\": 15}, \"zerolinecolor\": \"white\", \"zerolinewidth\": 2}, \"yaxis\": {\"automargin\": true, \"gridcolor\": \"white\", \"linecolor\": \"white\", \"ticks\": \"\", \"title\": {\"standoff\": 15}, \"zerolinecolor\": \"white\", \"zerolinewidth\": 2}}}},                        {\"responsive\": true}                    ).then(function(){\n",
              "                            \n",
              "var gd = document.getElementById('007db127-e831-4234-8077-679b995ef828');\n",
              "var x = new MutationObserver(function (mutations, observer) {{\n",
              "        var display = window.getComputedStyle(gd).display;\n",
              "        if (!display || display === 'none') {{\n",
              "            console.log([gd, 'removed!']);\n",
              "            Plotly.purge(gd);\n",
              "            observer.disconnect();\n",
              "        }}\n",
              "}});\n",
              "\n",
              "// Listen for the removal of the full notebook cells\n",
              "var notebookContainer = gd.closest('#notebook-container');\n",
              "if (notebookContainer) {{\n",
              "    x.observe(notebookContainer, {childList: true});\n",
              "}}\n",
              "\n",
              "// Listen for the clearing of the current output cell\n",
              "var outputEl = gd.closest('.output');\n",
              "if (outputEl) {{\n",
              "    x.observe(outputEl, {childList: true});\n",
              "}}\n",
              "\n",
              "                        })                };                });            </script>        </div>"
            ]
          },
          "metadata": {
            "tags": []
          }
        }
      ]
    },
    {
      "cell_type": "code",
      "metadata": {
        "id": "Tni0xljyKQrS"
      },
      "source": [
        "# explainer = shap.Explainer(diamond_hand_1)\n",
        "# shap_values = explainer(X_current)"
      ],
      "execution_count": null,
      "outputs": []
    },
    {
      "cell_type": "markdown",
      "metadata": {
        "id": "c_-tUGPXKQrS"
      },
      "source": [
        "# Build HTML5 from prediction created"
      ]
    },
    {
      "cell_type": "code",
      "metadata": {
        "id": "o7t_OWr1KQrS"
      },
      "source": [
        "from jinja2 import Environment, FileSystemLoader\n",
        "\n",
        "env = Environment(loader=FileSystemLoader('.'))\n",
        "template = env.get_template(\"lq45-forecast-report-template.html\")\n",
        "\n",
        "template_vars = {\"title\" : \"LQ45 3-Day Forecast\",\n",
        "                 \"gekko_forecast\": 'gekko_gauge.png',\n",
        "                 \"gekko_plot\":'sv_fig.png'}\n",
        "\n",
        "html_out = template.render(template_vars)\n",
        "\n",
        "#write html to file\n",
        "text_file = open(\"lq45-forecast-report-{}.html\".format(today.strftime(\"%Y-%m-%d\")), \"w\")\n",
        "text_file.write(html_out)\n",
        "text_file.close()"
      ],
      "execution_count": null,
      "outputs": []
    },
    {
      "cell_type": "markdown",
      "metadata": {
        "id": "zfKDWcDJKQrS"
      },
      "source": [
        "# Run model `gekko`"
      ]
    },
    {
      "cell_type": "code",
      "metadata": {
        "id": "137J6x_TKQrT"
      },
      "source": [
        "# Train period 2012-05-15 - 2020-12-31\n",
        "gekko6var_1 = tf.keras.models.load_model('gekko/gru7_gs20_n60_6var_p2021-01-01_X31.hdf5', compile=False)\n",
        "gekko6var_2 = tf.keras.models.load_model('gekko/gru7_gs20_n80_6var_p2021-01-01_X34.hdf5', compile=False)\n",
        "gekko6var_3 = tf.keras.models.load_model('gekko/gru7_gs20_n80_6var_p2021-01-01_X4.hdf5', compile=False)\n",
        "gekko6var_4 = tf.keras.models.load_model('gekko/gru7_gs20_n80_6var_p2021-01-01_X50.hdf5', compile=False)\n",
        "gekko6var_5 = tf.keras.models.load_model('gekko/gru7_gs20_n60_6var_p2021-01-01_X47.hdf5', compile=False)"
      ],
      "execution_count": null,
      "outputs": []
    },
    {
      "cell_type": "code",
      "metadata": {
        "id": "BbOaeCAxKQrT",
        "outputId": "5e39506a-7bd0-4d7a-cc83-898e821e4c1c"
      },
      "source": [
        "from datetime import date\n",
        "\n",
        "models = [gekko6var_1,gekko6var_2,gekko6var_3,gekko4var_4,gekko4var_5]\n",
        "models_name = ['gekko6var_1','gekko6var_2','gekko6var_3','gekko4var_4','gekko4var_5']\n",
        "pred_ensemble = []\n",
        "oo_date_prediction = pd.DataFrame()\n",
        "\n",
        "X, y = dp.generate_batch(df, \n",
        "                                         input_timesteps,\n",
        "                                         output_timesteps,\n",
        "                                         INPUT_VAR2,\n",
        "                                         TARGET_VAR)\n",
        "\n",
        "X_current, y_current = dp.generate_batch(df, \n",
        "                                         input_timesteps,\n",
        "                                         output_timesteps,\n",
        "                                         INPUT_VAR,\n",
        "                                         TARGET_VAR)\n",
        "\n",
        "# Genrate prediction from all model\n",
        "for index,model in enumerate(models):\n",
        "    pred,true,current_result = generate_prediction(model,\n",
        "                                               X,\n",
        "                                               y,\n",
        "                                               df.index[(input_timesteps+output_timesteps-1):])\n",
        "    val = target_inverse_transform(current_result['pred'].iloc[-day_count:].values).round(2) # get last X days\n",
        "    pred_ensemble.append(val)\n",
        "    oo_date_prediction['date'] = current_result['date']\n",
        "    oo_date_prediction[f'nd_pred_{index}'] = current_result['pred']\n",
        "\n",
        "# Convert to ndarray\n",
        "pred_ensemble_npa = np.array(pred_ensemble)\n",
        "today = date.today()\n",
        "\n",
        "# Display and save result\n",
        "oo_df = pd.DataFrame.from_dict({'model': models_name})\n",
        "\n",
        "def highlight_sign(s): \n",
        "    res = ['color: red;' if x < -0.28 else 'color: green;' if x > 0.17 else 'color:black' for x in s] \n",
        "    return res\n",
        "\n",
        "oo_df[today.strftime(\"%b %d, %Y\")] = pred_ensemble_npa[:,-1]\n",
        "for d in range(1, day_count):\n",
        "    oo_df[df.index[-d].date().strftime(\"%b %d, %Y\")] = pred_ensemble_npa[:,-1-d]\n",
        "    \n",
        "# Add avg, median\n",
        "oo_df.loc[oo_df.index.max() + 1] = ['AVERAGE'] + np.flip(np.average(pred_ensemble_npa, axis=0),0).tolist()\n",
        "oo_df.loc[oo_df.index.max() + 1] = ['MEDIAN'] + np.flip(np.median(pred_ensemble_npa, axis=0),0).tolist()\n",
        "\n",
        "# Addd actual 3-day lQ45\n",
        "# blender.loc[blender.index.max() + 1] = ['LQ45 3-DAY CHG'] + lq45_actual\n",
        "lq45_actual = [np.nan] + np.flip(target_inverse_transform(current_result['true'].iloc[-day_count:].values).round(2)).tolist()[:-1]\n",
        "oo_df.loc[oo_df.index.max() + 1] = ['LQ45 3-DAY CHG'] + lq45_actual\n",
        "\n",
        "# Create dataframe to display portfolio value over time\n",
        "oo_date_prediction.date = oo_date_prediction.date.shift(-1)\n",
        "oo_date_prediction.date.iat[-1] = datetime.today().strftime('%Y-%m-%d')\n",
        "oo_date_prediction.set_index(['date'],inplace=True)\n",
        "oo_date_prediction['avg_pred'] = oo_date_prediction.mean(axis=1)\n",
        "oo_date_prediction['median_pred'] = oo_date_prediction.median(axis=1)\n",
        "oo_date_prediction['pred'] = oo_date_prediction['avg_pred']\n",
        "oo_date_prediction['true'] = current_result['true'].values\n",
        "\n",
        "# Styling and Display table\n",
        "oo_df.set_index(['model'],inplace=True)\n",
        "oo_df_styled = oo_df.style.format('{0:,.2f}%', na_rep=\"-\")\n",
        "oo_df_styled = oo_df_styled.set_caption(\"LQ45 Future 3-Day Forecast\").apply(highlight_sign)\n",
        "oo_df_styled = oo_df_styled.apply(lambda x: ['background: lightblue' if x.name in ['AVERAGE','MEDIAN','LQ45 3-DAY CHG'] else '' for i in x], axis=1)\n",
        "oo_df_styled = oo_df_styled.apply(lambda x: ['background: gold' if x.name in ['LQ45 3-DAY CHG'] else '' for i in x], axis=1)\n",
        "oo_df_styled"
      ],
      "execution_count": null,
      "outputs": [
        {
          "output_type": "error",
          "ename": "NameError",
          "evalue": "name 'gekko4var_4' is not defined",
          "traceback": [
            "\u001b[1;31m---------------------------------------------------------------------------\u001b[0m",
            "\u001b[1;31mNameError\u001b[0m                                 Traceback (most recent call last)",
            "\u001b[1;32m<ipython-input-119-0ed262ad3ac0>\u001b[0m in \u001b[0;36m<module>\u001b[1;34m\u001b[0m\n\u001b[0;32m      1\u001b[0m \u001b[1;32mfrom\u001b[0m \u001b[0mdatetime\u001b[0m \u001b[1;32mimport\u001b[0m \u001b[0mdate\u001b[0m\u001b[1;33m\u001b[0m\u001b[1;33m\u001b[0m\u001b[0m\n\u001b[0;32m      2\u001b[0m \u001b[1;33m\u001b[0m\u001b[0m\n\u001b[1;32m----> 3\u001b[1;33m \u001b[0mmodels\u001b[0m \u001b[1;33m=\u001b[0m \u001b[1;33m[\u001b[0m\u001b[0mgekko6var_1\u001b[0m\u001b[1;33m,\u001b[0m\u001b[0mgekko6var_2\u001b[0m\u001b[1;33m,\u001b[0m\u001b[0mgekko6var_3\u001b[0m\u001b[1;33m,\u001b[0m\u001b[0mgekko4var_4\u001b[0m\u001b[1;33m,\u001b[0m\u001b[0mgekko4var_5\u001b[0m\u001b[1;33m]\u001b[0m\u001b[1;33m\u001b[0m\u001b[1;33m\u001b[0m\u001b[0m\n\u001b[0m\u001b[0;32m      4\u001b[0m \u001b[0mmodels_name\u001b[0m \u001b[1;33m=\u001b[0m \u001b[1;33m[\u001b[0m\u001b[1;34m'gekko6var_1'\u001b[0m\u001b[1;33m,\u001b[0m\u001b[1;34m'gekko6var_2'\u001b[0m\u001b[1;33m,\u001b[0m\u001b[1;34m'gekko6var_3'\u001b[0m\u001b[1;33m,\u001b[0m\u001b[1;34m'gekko4var_4'\u001b[0m\u001b[1;33m,\u001b[0m\u001b[1;34m'gekko4var_5'\u001b[0m\u001b[1;33m]\u001b[0m\u001b[1;33m\u001b[0m\u001b[1;33m\u001b[0m\u001b[0m\n\u001b[0;32m      5\u001b[0m \u001b[0mpred_ensemble\u001b[0m \u001b[1;33m=\u001b[0m \u001b[1;33m[\u001b[0m\u001b[1;33m]\u001b[0m\u001b[1;33m\u001b[0m\u001b[1;33m\u001b[0m\u001b[0m\n",
            "\u001b[1;31mNameError\u001b[0m: name 'gekko4var_4' is not defined"
          ]
        }
      ]
    },
    {
      "cell_type": "code",
      "metadata": {
        "scrolled": false,
        "id": "kRbtavLBKQrT",
        "outputId": "2dedabb8-d224-4de2-d07a-7842544b401f"
      },
      "source": [
        "res = oo_date_prediction.pipe(determine_buy_sell_acc, 0.15, -0.20)\n",
        "res = oo_date_prediction.pipe(calc_rolling_acc)\n",
        "res = res.merge(df[['LQ45','target']], how='left', left_index=True, right_index=True).copy()\n",
        "res = res[:-1] # Remove last element because NaN\n",
        "\n",
        "test_returns = tm.simulate_position(res,0.15,-0.2, closing_price_name='LQ45')#dp.generate_returns(res)\n",
        "fig = plot_returns(test_returns, closing_price_name='LQ45', value_range=3, title='')"
      ],
      "execution_count": null,
      "outputs": [
        {
          "output_type": "error",
          "ename": "NameError",
          "evalue": "name 'oo_date_prediction' is not defined",
          "traceback": [
            "\u001b[1;31m---------------------------------------------------------------------------\u001b[0m",
            "\u001b[1;31mNameError\u001b[0m                                 Traceback (most recent call last)",
            "\u001b[1;32m<ipython-input-120-7f800a2607f5>\u001b[0m in \u001b[0;36m<module>\u001b[1;34m\u001b[0m\n\u001b[1;32m----> 1\u001b[1;33m \u001b[0mres\u001b[0m \u001b[1;33m=\u001b[0m \u001b[0moo_date_prediction\u001b[0m\u001b[1;33m.\u001b[0m\u001b[0mpipe\u001b[0m\u001b[1;33m(\u001b[0m\u001b[0mdetermine_buy_sell_acc\u001b[0m\u001b[1;33m,\u001b[0m \u001b[1;36m0.15\u001b[0m\u001b[1;33m,\u001b[0m \u001b[1;33m-\u001b[0m\u001b[1;36m0.20\u001b[0m\u001b[1;33m)\u001b[0m\u001b[1;33m\u001b[0m\u001b[1;33m\u001b[0m\u001b[0m\n\u001b[0m\u001b[0;32m      2\u001b[0m \u001b[0mres\u001b[0m \u001b[1;33m=\u001b[0m \u001b[0moo_date_prediction\u001b[0m\u001b[1;33m.\u001b[0m\u001b[0mpipe\u001b[0m\u001b[1;33m(\u001b[0m\u001b[0mcalc_rolling_acc\u001b[0m\u001b[1;33m)\u001b[0m\u001b[1;33m\u001b[0m\u001b[1;33m\u001b[0m\u001b[0m\n\u001b[0;32m      3\u001b[0m \u001b[0mres\u001b[0m \u001b[1;33m=\u001b[0m \u001b[0mres\u001b[0m\u001b[1;33m.\u001b[0m\u001b[0mmerge\u001b[0m\u001b[1;33m(\u001b[0m\u001b[0mdf\u001b[0m\u001b[1;33m[\u001b[0m\u001b[1;33m[\u001b[0m\u001b[1;34m'LQ45'\u001b[0m\u001b[1;33m,\u001b[0m\u001b[1;34m'target'\u001b[0m\u001b[1;33m]\u001b[0m\u001b[1;33m]\u001b[0m\u001b[1;33m,\u001b[0m \u001b[0mhow\u001b[0m\u001b[1;33m=\u001b[0m\u001b[1;34m'left'\u001b[0m\u001b[1;33m,\u001b[0m \u001b[0mleft_index\u001b[0m\u001b[1;33m=\u001b[0m\u001b[1;32mTrue\u001b[0m\u001b[1;33m,\u001b[0m \u001b[0mright_index\u001b[0m\u001b[1;33m=\u001b[0m\u001b[1;32mTrue\u001b[0m\u001b[1;33m)\u001b[0m\u001b[1;33m.\u001b[0m\u001b[0mcopy\u001b[0m\u001b[1;33m(\u001b[0m\u001b[1;33m)\u001b[0m\u001b[1;33m\u001b[0m\u001b[1;33m\u001b[0m\u001b[0m\n\u001b[0;32m      4\u001b[0m \u001b[0mres\u001b[0m \u001b[1;33m=\u001b[0m \u001b[0mres\u001b[0m\u001b[1;33m[\u001b[0m\u001b[1;33m:\u001b[0m\u001b[1;33m-\u001b[0m\u001b[1;36m1\u001b[0m\u001b[1;33m]\u001b[0m \u001b[1;31m# Remove last element because NaN\u001b[0m\u001b[1;33m\u001b[0m\u001b[1;33m\u001b[0m\u001b[0m\n\u001b[0;32m      5\u001b[0m \u001b[1;33m\u001b[0m\u001b[0m\n",
            "\u001b[1;31mNameError\u001b[0m: name 'oo_date_prediction' is not defined"
          ]
        }
      ]
    },
    {
      "cell_type": "markdown",
      "metadata": {
        "id": "g_PtC9JAKQrU"
      },
      "source": [
        "# Run model `JIBOR`"
      ]
    },
    {
      "cell_type": "code",
      "metadata": {
        "scrolled": true,
        "id": "e-Nvoj5dKQrU"
      },
      "source": [
        "mypath = 'jibor_ma'\n",
        "\n",
        "from os import listdir\n",
        "from os.path import isfile, join\n",
        "\n",
        "models = [tf.keras.models.load_model('jibor_ma/{}'.format(f), compile=False) for f in listdir(mypath) if isfile(join(mypath, f))]\n",
        "models_name = [f for f in listdir(mypath) if isfile(join(mypath, f))]"
      ],
      "execution_count": null,
      "outputs": []
    },
    {
      "cell_type": "code",
      "metadata": {
        "id": "ld0hDCzFKQrU"
      },
      "source": [
        "from datetime import date\n",
        "\n",
        "# models = [oneoff1,oneoff2,gru8_mY70,gru8_mY136,gru8_mY196,gru8_mY164,gru8_mY34,gru8_mY276,gru8_mY212,gru8_mY24,gru8_newer_data_n80_4,gru8_newer_data_n60_3,gru8_newer_data_n45_2]\n",
        "# models_name = ['oneoff1','oneoff2','gru8_mY70','gru8_mY136','gru8_mY196','gru8_mY164','gru8_mY34','gru8_mY276','gru8_mY212','gru8_mY24','gru8_newer_data_n80_4','gru8_newer_data_n60_3','gru8_newer_data_n45_2']\n",
        "pred_ensemble = []\n",
        "oo_date_prediction = pd.DataFrame()\n",
        "\n",
        "df2 = df.copy()\n",
        "indo_jibor = pd.read_csv('indonia_jibor.csv')\n",
        "indo_jibor['Date'] = pd.to_datetime(indo_jibor['Date'], format='%d/%m/%Y')\n",
        "indo_jibor = indo_jibor.set_index('Date').sort_index()\n",
        "indo_jibor.loc[indo_jibor.indonia == 0, 'indonia'] = np.nan\n",
        "indo_jibor.loc[indo_jibor.jibor_weekly == 0, 'jibor_weekly'] = np.nan\n",
        "\n",
        "# indo_jibor.interpolate(inplace=True)\n",
        "indo_jibor.fillna(method='bfill',inplace=True)\n",
        "df2['jibor_ma'] = df2['jibor_weekly'].rolling(4).mean()\n",
        "\n",
        "X_current, y_current = dp.generate_batch(df2, \n",
        "                                         input_timesteps,\n",
        "                                         output_timesteps,\n",
        "                                         ['momentum','IDX30_IHSG_grad','EIDO_SPY_grad','Volume_grad','jibor_ma'],\n",
        "                                         TARGET_VAR)\n",
        "\n",
        "# Genrate prediction from all model\n",
        "for index,model in enumerate(models):\n",
        "    pred,true,current_result = generate_prediction(model,\n",
        "                                               X_current,\n",
        "                                               y_current,\n",
        "                                               df2.index[(input_timesteps+output_timesteps-1):])\n",
        "    val = target_inverse_transform(current_result['pred'].iloc[-day_count:].values).round(2) # get last X days\n",
        "    pred_ensemble.append(val)\n",
        "    oo_date_prediction['date'] = current_result['date']\n",
        "    oo_date_prediction[f'nd_pred_{index}'] = current_result['pred']\n",
        "\n",
        "# Convert to ndarray\n",
        "pred_ensemble_npa = np.array(pred_ensemble)\n",
        "today = date.today()\n",
        "\n",
        "# Display and save result\n",
        "oo_df = pd.DataFrame.from_dict({'model': models_name})\n",
        "\n",
        "def highlight_sign(s): \n",
        "    res = ['color: red;' if x < -0.28 else 'color: green;' if x > 0.17 else 'color:black' for x in s] \n",
        "    return res\n",
        "\n",
        "oo_df[today.strftime(\"%b %d, %Y\")] = pred_ensemble_npa[:,-1]\n",
        "for d in range(1, day_count):\n",
        "    oo_df[df.index[-d].date().strftime(\"%b %d, %Y\")] = pred_ensemble_npa[:,-1-d]\n",
        "    \n",
        "# Add avg, median\n",
        "oo_df.loc[oo_df.index.max() + 1] = ['AVERAGE'] + np.flip(np.average(pred_ensemble_npa, axis=0),0).tolist()\n",
        "oo_df.loc[oo_df.index.max() + 1] = ['MEDIAN'] + np.flip(np.median(pred_ensemble_npa, axis=0),0).tolist()\n",
        "\n",
        "# Addd actual 3-day lQ45\n",
        "# blender.loc[blender.index.max() + 1] = ['LQ45 3-DAY CHG'] + lq45_actual\n",
        "lq45_actual = [np.nan] + np.flip(target_inverse_transform(current_result['true'].iloc[-day_count:].values).round(2)).tolist()[:-1]\n",
        "oo_df.loc[oo_df.index.max() + 1] = ['LQ45 3-DAY CHG'] + lq45_actual\n",
        "\n",
        "# Create dataframe to display portfolio value over time\n",
        "oo_date_prediction.date = oo_date_prediction.date.shift(-1)\n",
        "oo_date_prediction.date.iat[-1] = date.today()\n",
        "oo_date_prediction.set_index(['date'],inplace=True)\n",
        "oo_date_prediction['avg_pred'] = oo_date_prediction.mean(axis=1)\n",
        "oo_date_prediction['median_pred'] = oo_date_prediction.median(axis=1)\n",
        "oo_date_prediction['pred'] = oo_date_prediction['avg_pred']\n",
        "oo_date_prediction['true'] = current_result['true'].values\n",
        "\n",
        "# Styling and Display table\n",
        "oo_df.set_index(['model'],inplace=True)\n",
        "oo_df_styled = oo_df.style.format('{0:,.2f}%', na_rep=\"-\")\n",
        "oo_df_styled = oo_df_styled.set_caption(\"LQ45 Future 3-Day Forecast\").apply(highlight_sign)\n",
        "oo_df_styled = oo_df_styled.apply(lambda x: ['background: lightblue' if x.name in ['AVERAGE','MEDIAN','LQ45 3-DAY CHG'] else '' for i in x], axis=1)\n",
        "oo_df_styled = oo_df_styled.apply(lambda x: ['background: gold' if x.name in ['LQ45 3-DAY CHG'] else '' for i in x], axis=1)\n",
        "oo_df_styled"
      ],
      "execution_count": null,
      "outputs": []
    },
    {
      "cell_type": "code",
      "metadata": {
        "id": "nMsClg5SKQrU"
      },
      "source": [
        "res = oo_date_prediction.pipe(calc_rolling_acc)\n",
        "res = res.merge(df[['LQ45','target']], how='left', left_index=True, right_index=True).copy()\n",
        "res = res[:-1] # Remove last element because NaN\n",
        "\n",
        "test_returns = tm.simulate_position(res,0.15,-0.2, closing_price_name='LQ45')#dp.generate_returns(res)\n",
        "fig = plot_returns(test_returns, closing_price_name='LQ45', value_range=3, title='')"
      ],
      "execution_count": null,
      "outputs": []
    },
    {
      "cell_type": "code",
      "metadata": {
        "id": "-XBB4tcPKQrV"
      },
      "source": [
        ""
      ],
      "execution_count": null,
      "outputs": []
    }
  ]
}